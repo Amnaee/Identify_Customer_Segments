{
 "cells": [
  {
   "cell_type": "markdown",
   "metadata": {},
   "source": [
    "# Project: Identify Customer Segments\n",
    "\n",
    "In this project, you will apply unsupervised learning techniques to identify segments of the population that form the core customer base for a mail-order sales company in Germany. These segments can then be used to direct marketing campaigns towards audiences that will have the highest expected rate of returns. The data that you will use has been provided by our partners at Bertelsmann Arvato Analytics, and represents a real-life data science task.\n",
    "\n",
    "This notebook will help you complete this task by providing a framework within which you will perform your analysis steps. In each step of the project, you will see some text describing the subtask that you will perform, followed by one or more code cells for you to complete your work. **Feel free to add additional code and markdown cells as you go along so that you can explore everything in precise chunks.** The code cells provided in the base template will outline only the major tasks, and will usually not be enough to cover all of the minor tasks that comprise it.\n",
    "\n",
    "It should be noted that while there will be precise guidelines on how you should handle certain tasks in the project, there will also be places where an exact specification is not provided. **There will be times in the project where you will need to make and justify your own decisions on how to treat the data.** These are places where there may not be only one way to handle the data. In real-life tasks, there may be many valid ways to approach an analysis task. One of the most important things you can do is clearly document your approach so that other scientists can understand the decisions you've made.\n",
    "\n",
    "At the end of most sections, there will be a Markdown cell labeled **Discussion**. In these cells, you will report your findings for the completed section, as well as document the decisions that you made in your approach to each subtask. **Your project will be evaluated not just on the code used to complete the tasks outlined, but also your communication about your observations and conclusions at each stage.**"
   ]
  },
  {
   "cell_type": "code",
   "execution_count": 1,
   "metadata": {},
   "outputs": [
    {
     "data": {
      "text/plain": [
       "'\\nImport note: The classroom currently uses sklearn version 0.19.\\nIf you need to use an imputer, it is available in sklearn.preprocessing.Imputer,\\ninstead of sklearn.impute as in newer versions of sklearn.\\n'"
      ]
     },
     "execution_count": 1,
     "metadata": {},
     "output_type": "execute_result"
    }
   ],
   "source": [
    "# import libraries here; add more as necessary\n",
    "import numpy as np\n",
    "import pandas as pd\n",
    "import matplotlib.pyplot as plt\n",
    "import seaborn as sns\n",
    "from sklearn.preprocessing import StandardScaler, Imputer\n",
    "from sklearn.decomposition import PCA\n",
    "from sklearn.cluster import KMeans\n",
    "# magic word for producing visualizations in notebook\n",
    "%matplotlib inline\n",
    "\n",
    "'''\n",
    "Import note: The classroom currently uses sklearn version 0.19.\n",
    "If you need to use an imputer, it is available in sklearn.preprocessing.Imputer,\n",
    "instead of sklearn.impute as in newer versions of sklearn.\n",
    "'''"
   ]
  },
  {
   "cell_type": "markdown",
   "metadata": {},
   "source": [
    "### Step 0: Load the Data\n",
    "\n",
    "There are four files associated with this project (not including this one):\n",
    "\n",
    "- `Udacity_AZDIAS_Subset.csv`: Demographics data for the general population of Germany; 891211 persons (rows) x 85 features (columns).\n",
    "- `Udacity_CUSTOMERS_Subset.csv`: Demographics data for customers of a mail-order company; 191652 persons (rows) x 85 features (columns).\n",
    "- `Data_Dictionary.md`: Detailed information file about the features in the provided datasets.\n",
    "- `AZDIAS_Feature_Summary.csv`: Summary of feature attributes for demographics data; 85 features (rows) x 4 columns\n",
    "\n",
    "Each row of the demographics files represents a single person, but also includes information outside of individuals, including information about their household, building, and neighborhood. You will use this information to cluster the general population into groups with similar demographic properties. Then, you will see how the people in the customers dataset fit into those created clusters. The hope here is that certain clusters are over-represented in the customers data, as compared to the general population; those over-represented clusters will be assumed to be part of the core userbase. This information can then be used for further applications, such as targeting for a marketing campaign.\n",
    "\n",
    "To start off with, load in the demographics data for the general population into a pandas DataFrame, and do the same for the feature attributes summary. Note for all of the `.csv` data files in this project: they're semicolon (`;`) delimited, so you'll need an additional argument in your [`read_csv()`](https://pandas.pydata.org/pandas-docs/stable/generated/pandas.read_csv.html) call to read in the data properly. Also, considering the size of the main dataset, it may take some time for it to load completely.\n",
    "\n",
    "Once the dataset is loaded, it's recommended that you take a little bit of time just browsing the general structure of the dataset and feature summary file. You'll be getting deep into the innards of the cleaning in the first major step of the project, so gaining some general familiarity can help you get your bearings."
   ]
  },
  {
   "cell_type": "code",
   "execution_count": 2,
   "metadata": {},
   "outputs": [],
   "source": [
    "# Load in the general demographics data.\n",
    "azdias = pd.read_csv(\"Udacity_AZDIAS_Subset.csv\", delimiter=\";\")\n",
    "\n",
    "# Load in the feature summary file.\n",
    "feat_info = pd.read_csv(\"AZDIAS_Feature_Summary.csv\", delimiter=\";\")"
   ]
  },
  {
   "cell_type": "code",
   "execution_count": 3,
   "metadata": {},
   "outputs": [
    {
     "data": {
      "text/plain": [
       "(891221, 85)"
      ]
     },
     "execution_count": 3,
     "metadata": {},
     "output_type": "execute_result"
    }
   ],
   "source": [
    "# Check the structure of the data after it's loaded (e.g. print the number of\n",
    "# rows and columns, print the first few rows).\n",
    "azdias.shape\n"
   ]
  },
  {
   "cell_type": "code",
   "execution_count": 4,
   "metadata": {
    "scrolled": true
   },
   "outputs": [
    {
     "data": {
      "text/html": [
       "<div>\n",
       "<style scoped>\n",
       "    .dataframe tbody tr th:only-of-type {\n",
       "        vertical-align: middle;\n",
       "    }\n",
       "\n",
       "    .dataframe tbody tr th {\n",
       "        vertical-align: top;\n",
       "    }\n",
       "\n",
       "    .dataframe thead th {\n",
       "        text-align: right;\n",
       "    }\n",
       "</style>\n",
       "<table border=\"1\" class=\"dataframe\">\n",
       "  <thead>\n",
       "    <tr style=\"text-align: right;\">\n",
       "      <th></th>\n",
       "      <th>AGER_TYP</th>\n",
       "      <th>ALTERSKATEGORIE_GROB</th>\n",
       "      <th>ANREDE_KZ</th>\n",
       "      <th>CJT_GESAMTTYP</th>\n",
       "      <th>FINANZ_MINIMALIST</th>\n",
       "      <th>FINANZ_SPARER</th>\n",
       "      <th>FINANZ_VORSORGER</th>\n",
       "      <th>FINANZ_ANLEGER</th>\n",
       "      <th>FINANZ_UNAUFFAELLIGER</th>\n",
       "      <th>FINANZ_HAUSBAUER</th>\n",
       "      <th>...</th>\n",
       "      <th>PLZ8_ANTG1</th>\n",
       "      <th>PLZ8_ANTG2</th>\n",
       "      <th>PLZ8_ANTG3</th>\n",
       "      <th>PLZ8_ANTG4</th>\n",
       "      <th>PLZ8_BAUMAX</th>\n",
       "      <th>PLZ8_HHZ</th>\n",
       "      <th>PLZ8_GBZ</th>\n",
       "      <th>ARBEIT</th>\n",
       "      <th>ORTSGR_KLS9</th>\n",
       "      <th>RELAT_AB</th>\n",
       "    </tr>\n",
       "  </thead>\n",
       "  <tbody>\n",
       "    <tr>\n",
       "      <th>0</th>\n",
       "      <td>-1</td>\n",
       "      <td>2</td>\n",
       "      <td>1</td>\n",
       "      <td>2.0</td>\n",
       "      <td>3</td>\n",
       "      <td>4</td>\n",
       "      <td>3</td>\n",
       "      <td>5</td>\n",
       "      <td>5</td>\n",
       "      <td>3</td>\n",
       "      <td>...</td>\n",
       "      <td>NaN</td>\n",
       "      <td>NaN</td>\n",
       "      <td>NaN</td>\n",
       "      <td>NaN</td>\n",
       "      <td>NaN</td>\n",
       "      <td>NaN</td>\n",
       "      <td>NaN</td>\n",
       "      <td>NaN</td>\n",
       "      <td>NaN</td>\n",
       "      <td>NaN</td>\n",
       "    </tr>\n",
       "    <tr>\n",
       "      <th>1</th>\n",
       "      <td>-1</td>\n",
       "      <td>1</td>\n",
       "      <td>2</td>\n",
       "      <td>5.0</td>\n",
       "      <td>1</td>\n",
       "      <td>5</td>\n",
       "      <td>2</td>\n",
       "      <td>5</td>\n",
       "      <td>4</td>\n",
       "      <td>5</td>\n",
       "      <td>...</td>\n",
       "      <td>2.0</td>\n",
       "      <td>3.0</td>\n",
       "      <td>2.0</td>\n",
       "      <td>1.0</td>\n",
       "      <td>1.0</td>\n",
       "      <td>5.0</td>\n",
       "      <td>4.0</td>\n",
       "      <td>3.0</td>\n",
       "      <td>5.0</td>\n",
       "      <td>4.0</td>\n",
       "    </tr>\n",
       "    <tr>\n",
       "      <th>2</th>\n",
       "      <td>-1</td>\n",
       "      <td>3</td>\n",
       "      <td>2</td>\n",
       "      <td>3.0</td>\n",
       "      <td>1</td>\n",
       "      <td>4</td>\n",
       "      <td>1</td>\n",
       "      <td>2</td>\n",
       "      <td>3</td>\n",
       "      <td>5</td>\n",
       "      <td>...</td>\n",
       "      <td>3.0</td>\n",
       "      <td>3.0</td>\n",
       "      <td>1.0</td>\n",
       "      <td>0.0</td>\n",
       "      <td>1.0</td>\n",
       "      <td>4.0</td>\n",
       "      <td>4.0</td>\n",
       "      <td>3.0</td>\n",
       "      <td>5.0</td>\n",
       "      <td>2.0</td>\n",
       "    </tr>\n",
       "    <tr>\n",
       "      <th>3</th>\n",
       "      <td>2</td>\n",
       "      <td>4</td>\n",
       "      <td>2</td>\n",
       "      <td>2.0</td>\n",
       "      <td>4</td>\n",
       "      <td>2</td>\n",
       "      <td>5</td>\n",
       "      <td>2</td>\n",
       "      <td>1</td>\n",
       "      <td>2</td>\n",
       "      <td>...</td>\n",
       "      <td>2.0</td>\n",
       "      <td>2.0</td>\n",
       "      <td>2.0</td>\n",
       "      <td>0.0</td>\n",
       "      <td>1.0</td>\n",
       "      <td>3.0</td>\n",
       "      <td>4.0</td>\n",
       "      <td>2.0</td>\n",
       "      <td>3.0</td>\n",
       "      <td>3.0</td>\n",
       "    </tr>\n",
       "    <tr>\n",
       "      <th>4</th>\n",
       "      <td>-1</td>\n",
       "      <td>3</td>\n",
       "      <td>1</td>\n",
       "      <td>5.0</td>\n",
       "      <td>4</td>\n",
       "      <td>3</td>\n",
       "      <td>4</td>\n",
       "      <td>1</td>\n",
       "      <td>3</td>\n",
       "      <td>2</td>\n",
       "      <td>...</td>\n",
       "      <td>2.0</td>\n",
       "      <td>4.0</td>\n",
       "      <td>2.0</td>\n",
       "      <td>1.0</td>\n",
       "      <td>2.0</td>\n",
       "      <td>3.0</td>\n",
       "      <td>3.0</td>\n",
       "      <td>4.0</td>\n",
       "      <td>6.0</td>\n",
       "      <td>5.0</td>\n",
       "    </tr>\n",
       "  </tbody>\n",
       "</table>\n",
       "<p>5 rows × 85 columns</p>\n",
       "</div>"
      ],
      "text/plain": [
       "   AGER_TYP  ALTERSKATEGORIE_GROB  ANREDE_KZ  CJT_GESAMTTYP  \\\n",
       "0        -1                     2          1            2.0   \n",
       "1        -1                     1          2            5.0   \n",
       "2        -1                     3          2            3.0   \n",
       "3         2                     4          2            2.0   \n",
       "4        -1                     3          1            5.0   \n",
       "\n",
       "   FINANZ_MINIMALIST  FINANZ_SPARER  FINANZ_VORSORGER  FINANZ_ANLEGER  \\\n",
       "0                  3              4                 3               5   \n",
       "1                  1              5                 2               5   \n",
       "2                  1              4                 1               2   \n",
       "3                  4              2                 5               2   \n",
       "4                  4              3                 4               1   \n",
       "\n",
       "   FINANZ_UNAUFFAELLIGER  FINANZ_HAUSBAUER    ...     PLZ8_ANTG1  PLZ8_ANTG2  \\\n",
       "0                      5                 3    ...            NaN         NaN   \n",
       "1                      4                 5    ...            2.0         3.0   \n",
       "2                      3                 5    ...            3.0         3.0   \n",
       "3                      1                 2    ...            2.0         2.0   \n",
       "4                      3                 2    ...            2.0         4.0   \n",
       "\n",
       "   PLZ8_ANTG3  PLZ8_ANTG4  PLZ8_BAUMAX  PLZ8_HHZ  PLZ8_GBZ  ARBEIT  \\\n",
       "0         NaN         NaN          NaN       NaN       NaN     NaN   \n",
       "1         2.0         1.0          1.0       5.0       4.0     3.0   \n",
       "2         1.0         0.0          1.0       4.0       4.0     3.0   \n",
       "3         2.0         0.0          1.0       3.0       4.0     2.0   \n",
       "4         2.0         1.0          2.0       3.0       3.0     4.0   \n",
       "\n",
       "   ORTSGR_KLS9  RELAT_AB  \n",
       "0          NaN       NaN  \n",
       "1          5.0       4.0  \n",
       "2          5.0       2.0  \n",
       "3          3.0       3.0  \n",
       "4          6.0       5.0  \n",
       "\n",
       "[5 rows x 85 columns]"
      ]
     },
     "execution_count": 4,
     "metadata": {},
     "output_type": "execute_result"
    }
   ],
   "source": [
    "azdias.head()"
   ]
  },
  {
   "cell_type": "code",
   "execution_count": 5,
   "metadata": {},
   "outputs": [
    {
     "data": {
      "text/plain": [
       "(85, 4)"
      ]
     },
     "execution_count": 5,
     "metadata": {},
     "output_type": "execute_result"
    }
   ],
   "source": [
    "feat_info.shape"
   ]
  },
  {
   "cell_type": "code",
   "execution_count": 6,
   "metadata": {},
   "outputs": [
    {
     "data": {
      "text/html": [
       "<div>\n",
       "<style scoped>\n",
       "    .dataframe tbody tr th:only-of-type {\n",
       "        vertical-align: middle;\n",
       "    }\n",
       "\n",
       "    .dataframe tbody tr th {\n",
       "        vertical-align: top;\n",
       "    }\n",
       "\n",
       "    .dataframe thead th {\n",
       "        text-align: right;\n",
       "    }\n",
       "</style>\n",
       "<table border=\"1\" class=\"dataframe\">\n",
       "  <thead>\n",
       "    <tr style=\"text-align: right;\">\n",
       "      <th></th>\n",
       "      <th>attribute</th>\n",
       "      <th>information_level</th>\n",
       "      <th>type</th>\n",
       "      <th>missing_or_unknown</th>\n",
       "    </tr>\n",
       "  </thead>\n",
       "  <tbody>\n",
       "    <tr>\n",
       "      <th>0</th>\n",
       "      <td>AGER_TYP</td>\n",
       "      <td>person</td>\n",
       "      <td>categorical</td>\n",
       "      <td>[-1,0]</td>\n",
       "    </tr>\n",
       "    <tr>\n",
       "      <th>1</th>\n",
       "      <td>ALTERSKATEGORIE_GROB</td>\n",
       "      <td>person</td>\n",
       "      <td>ordinal</td>\n",
       "      <td>[-1,0,9]</td>\n",
       "    </tr>\n",
       "    <tr>\n",
       "      <th>2</th>\n",
       "      <td>ANREDE_KZ</td>\n",
       "      <td>person</td>\n",
       "      <td>categorical</td>\n",
       "      <td>[-1,0]</td>\n",
       "    </tr>\n",
       "    <tr>\n",
       "      <th>3</th>\n",
       "      <td>CJT_GESAMTTYP</td>\n",
       "      <td>person</td>\n",
       "      <td>categorical</td>\n",
       "      <td>[0]</td>\n",
       "    </tr>\n",
       "    <tr>\n",
       "      <th>4</th>\n",
       "      <td>FINANZ_MINIMALIST</td>\n",
       "      <td>person</td>\n",
       "      <td>ordinal</td>\n",
       "      <td>[-1]</td>\n",
       "    </tr>\n",
       "  </tbody>\n",
       "</table>\n",
       "</div>"
      ],
      "text/plain": [
       "              attribute information_level         type missing_or_unknown\n",
       "0              AGER_TYP            person  categorical             [-1,0]\n",
       "1  ALTERSKATEGORIE_GROB            person      ordinal           [-1,0,9]\n",
       "2             ANREDE_KZ            person  categorical             [-1,0]\n",
       "3         CJT_GESAMTTYP            person  categorical                [0]\n",
       "4     FINANZ_MINIMALIST            person      ordinal               [-1]"
      ]
     },
     "execution_count": 6,
     "metadata": {},
     "output_type": "execute_result"
    }
   ],
   "source": [
    "feat_info.head()"
   ]
  },
  {
   "cell_type": "markdown",
   "metadata": {},
   "source": [
    "> **Tip**: Add additional cells to keep everything in reasonably-sized chunks! Keyboard shortcut `esc --> a` (press escape to enter command mode, then press the 'A' key) adds a new cell before the active cell, and `esc --> b` adds a new cell after the active cell. If you need to convert an active cell to a markdown cell, use `esc --> m` and to convert to a code cell, use `esc --> y`. \n",
    "\n",
    "## Step 1: Preprocessing\n",
    "\n",
    "### Step 1.1: Assess Missing Data\n",
    "\n",
    "The feature summary file contains a summary of properties for each demographics data column. You will use this file to help you make cleaning decisions during this stage of the project. First of all, you should assess the demographics data in terms of missing data. Pay attention to the following points as you perform your analysis, and take notes on what you observe. Make sure that you fill in the **Discussion** cell with your findings and decisions at the end of each step that has one!\n",
    "\n",
    "#### Step 1.1.1: Convert Missing Value Codes to NaNs\n",
    "The fourth column of the feature attributes summary (loaded in above as `feat_info`) documents the codes from the data dictionary that indicate missing or unknown data. While the file encodes this as a list (e.g. `[-1,0]`), this will get read in as a string object. You'll need to do a little bit of parsing to make use of it to identify and clean the data. Convert data that matches a 'missing' or 'unknown' value code into a numpy NaN value. You might want to see how much data takes on a 'missing' or 'unknown' code, and how much data is naturally missing, as a point of interest.\n",
    "\n",
    "**As one more reminder, you are encouraged to add additional cells to break up your analysis into manageable chunks.**"
   ]
  },
  {
   "cell_type": "code",
   "execution_count": 7,
   "metadata": {},
   "outputs": [
    {
     "name": "stdout",
     "output_type": "stream",
     "text": [
      "Number of missing values is 4896838\n"
     ]
    }
   ],
   "source": [
    "# Identify missing or unknown data values and convert them to NaNs.\n",
    "\n",
    "print('Number of missing values is {}'.format(azdias.isnull().sum().sum()))"
   ]
  },
  {
   "cell_type": "code",
   "execution_count": 8,
   "metadata": {},
   "outputs": [],
   "source": [
    "for indx in range(len(feat_info)):\n",
    "    missing_or_unknown = feat_info.iloc[indx]['missing_or_unknown']\n",
    "    missing_or_unknown = missing_or_unknown.strip('[')\n",
    "    missing_or_unknown = missing_or_unknown.strip(']')\n",
    "    missing_or_unknown = missing_or_unknown.split(sep=',')\n",
    "    missing_or_unknown = [int(value) if (value!='X' and value!='XX' and value!='') else value for value in missing_or_unknown]\n",
    "    if missing_or_unknown != ['']:\n",
    "        azdias = azdias.replace({feat_info.iloc[indx]['attribute']: missing_or_unknown}, np.nan)"
   ]
  },
  {
   "cell_type": "code",
   "execution_count": 9,
   "metadata": {},
   "outputs": [
    {
     "name": "stdout",
     "output_type": "stream",
     "text": [
      "Total number of missing values after conversion is 8373929\n"
     ]
    }
   ],
   "source": [
    "print('Total number of missing values after conversion is {}'.format(azdias.isnull().sum().sum()))\n"
   ]
  },
  {
   "cell_type": "markdown",
   "metadata": {},
   "source": [
    "#### Step 1.1.2: Assess Missing Data in Each Column\n",
    "\n",
    "How much missing data is present in each column? There are a few columns that are outliers in terms of the proportion of values that are missing. You will want to use matplotlib's [`hist()`](https://matplotlib.org/api/_as_gen/matplotlib.pyplot.hist.html) function to visualize the distribution of missing value counts to find these columns. Identify and document these columns. While some of these columns might have justifications for keeping or re-encoding the data, for this project you should just remove them from the dataframe. (Feel free to make remarks about these outlier columns in the discussion, however!)\n",
    "\n",
    "For the remaining features, are there any patterns in which columns have, or share, missing data?"
   ]
  },
  {
   "cell_type": "code",
   "execution_count": 10,
   "metadata": {
    "scrolled": false
   },
   "outputs": [
    {
     "data": {
      "image/png": "[encoded data removed]",
      "text/plain": [
       "<matplotlib.figure.Figure at 0x7fc97418c0b8>"
      ]
     },
     "metadata": {
      "needs_background": "light"
     },
     "output_type": "display_data"
    }
   ],
   "source": [
    "# Perform an assessment of how much missing data there is in each column of the\n",
    "# dataset.\n",
    "plt.hist(azdias.isnull().sum(), bins=100)\n",
    "plt.title(\"Distribution of number of misssing values in each column\")\n",
    "plt.xlabel(\"Number of missing values\")\n",
    "plt.ylabel(\"Number of columns\");\n"
   ]
  },
  {
   "cell_type": "markdown",
   "metadata": {},
   "source": [
    "# Investigate patterns in the amount of missing data in each column.\n"
   ]
  },
  {
   "cell_type": "code",
   "execution_count": 11,
   "metadata": {
    "scrolled": false
   },
   "outputs": [
    {
     "data": {
      "text/plain": [
       "(array([0, 1, 2, 3, 4, 5]), <a list of 6 Text xticklabel objects>)"
      ]
     },
     "execution_count": 11,
     "metadata": {},
     "output_type": "execute_result"
    },
    {
     "data": {
      "image/png": "[encoded data removed]",
      "text/plain": [
       "<matplotlib.figure.Figure at 0x7fc97208cef0>"
      ]
     },
     "metadata": {
      "needs_background": "light"
     },
     "output_type": "display_data"
    }
   ],
   "source": [
    "# Remove the outlier columns from the dataset. (You'll perform other data\n",
    "# engineering tasks such as re-encoding and imputation later.)\n",
    "\n",
    "m_columns = azdias.columns[azdias.isnull().sum() > 200000]\n",
    "azdias[m_columns].isnull().sum().sort_values(ascending=False).plot(kind=\"bar\", colormap=\"Blues_r\")\n",
    "plt.title(\"Number of missing values in 6 columns\")\n",
    "plt.xlabel(\"Column name\")\n",
    "plt.ylabel(\"Number of missing values\")\n",
    "plt.xticks(rotation=20)"
   ]
  },
  {
   "cell_type": "code",
   "execution_count": 12,
   "metadata": {},
   "outputs": [
    {
     "data": {
      "text/plain": [
       "Index(['AGER_TYP', 'GEBURTSJAHR', 'TITEL_KZ', 'ALTER_HH', 'KK_KUNDENTYP',\n",
       "       'KBA05_BAUMAX'],\n",
       "      dtype='object')"
      ]
     },
     "execution_count": 12,
     "metadata": {},
     "output_type": "execute_result"
    }
   ],
   "source": [
    "m_columns"
   ]
  },
  {
   "cell_type": "code",
   "execution_count": 13,
   "metadata": {
    "scrolled": true
   },
   "outputs": [
    {
     "data": {
      "text/plain": [
       "(891221, 79)"
      ]
     },
     "execution_count": 13,
     "metadata": {},
     "output_type": "execute_result"
    }
   ],
   "source": [
    "azdias = azdias.drop(columns=m_columns)\n",
    "azdias.shape"
   ]
  },
  {
   "cell_type": "markdown",
   "metadata": {},
   "source": [
    "#### Discussion 1.1.2: Assess Missing Data in Each Column\n",
    "\n",
    "\n",
    "### Most columns have up to 200000 missing values and few have  over 200000\n",
    "### the  6 columns which had more than 200000 missing values were removed \n"
   ]
  },
  {
   "cell_type": "markdown",
   "metadata": {},
   "source": [
    "#### Step 1.1.3: Assess Missing Data in Each Row\n",
    "\n",
    "Now, you'll perform a similar assessment for the rows of the dataset. How much data is missing in each row? As with the columns, you should see some groups of points that have a very different numbers of missing values. Divide the data into two subsets: one for data points that are above some threshold for missing values, and a second subset for points below that threshold.\n",
    "\n",
    "In order to know what to do with the outlier rows, we should see if the distribution of data values on columns that are not missing data (or are missing very little data) are similar or different between the two groups. Select at least five of these columns and compare the distribution of values.\n",
    "- You can use seaborn's [`countplot()`](https://seaborn.pydata.org/generated/seaborn.countplot.html) function to create a bar chart of code frequencies and matplotlib's [`subplot()`](https://matplotlib.org/api/_as_gen/matplotlib.pyplot.subplot.html) function to put bar charts for the two subplots side by side.\n",
    "- To reduce repeated code, you might want to write a function that can perform this comparison, taking as one of its arguments a column to be compared.\n",
    "\n",
    "Depending on what you observe in your comparison, this will have implications on how you approach your conclusions later in the analysis. If the distributions of non-missing features look similar between the data with many missing values and the data with few or no missing values, then we could argue that simply dropping those points from the analysis won't present a major issue. On the other hand, if the data with many missing values looks very different from the data with few or no missing values, then we should make a note on those data as special. We'll revisit these data later on. **Either way, you should continue your analysis for now using just the subset of the data with few or no missing values.**"
   ]
  },
  {
   "cell_type": "code",
   "execution_count": 14,
   "metadata": {},
   "outputs": [
    {
     "data": {
      "image/png": "[encoded data removed]",
      "text/plain": [
       "<matplotlib.figure.Figure at 0x7fc971fc1e10>"
      ]
     },
     "metadata": {
      "needs_background": "light"
     },
     "output_type": "display_data"
    }
   ],
   "source": [
    "# How much data is missing in each row of the dataset?\n",
    "\n",
    "missing_per_row =azdias.isnull().sum(axis=1)\n",
    "plt.hist(missing_per_row, bins=100)\n",
    "plt.ylabel('Number of Rows')\n",
    "plt.xlabel('Number of Missing Values')\n",
    "plt.show()"
   ]
  },
  {
   "cell_type": "code",
   "execution_count": 15,
   "metadata": {},
   "outputs": [],
   "source": [
    "# Write code to divide the data into two subsets based on the number of missing\n",
    "# values in each row.\n",
    "subset1 = azdias[azdias.isnull().sum(axis=1) <= 20]\n",
    "subset2 = azdias[azdias.isnull().sum(axis=1) > 20]\n"
   ]
  },
  {
   "cell_type": "code",
   "execution_count": 16,
   "metadata": {},
   "outputs": [
    {
     "data": {
      "image/png": "[encoded data removed]",
      "text/plain": [
       "<matplotlib.figure.Figure at 0x7fc971e888d0>"
      ]
     },
     "metadata": {
      "needs_background": "light"
     },
     "output_type": "display_data"
    },
    {
     "data": {
      "image/png": "[encoded data removed]",
      "text/plain": [
       "<matplotlib.figure.Figure at 0x7fc971e6d358>"
      ]
     },
     "metadata": {
      "needs_background": "light"
     },
     "output_type": "display_data"
    },
    {
     "data": {
      "image/png": "[encoded data removed]",
      "text/plain": [
       "<matplotlib.figure.Figure at 0x7fc971e6d780>"
      ]
     },
     "metadata": {
      "needs_background": "light"
     },
     "output_type": "display_data"
    },
    {
     "data": {
      "image/png": "[encoded data removed]",
      "text/plain": [
       "<matplotlib.figure.Figure at 0x7fc968b2ab00>"
      ]
     },
     "metadata": {
      "needs_background": "light"
     },
     "output_type": "display_data"
    },
    {
     "data": {
      "image/png": "[encoded data removed]",
      "text/plain": [
       "<matplotlib.figure.Figure at 0x7fc968a8ae80>"
      ]
     },
     "metadata": {
      "needs_background": "light"
     },
     "output_type": "display_data"
    }
   ],
   "source": [
    "# Compare the distribution of values for at least five columns where there are\n",
    "# no or few missing values, between the two subsets.\n",
    "\n",
    "def compare_distr(subset_1, subset_2, columns):\n",
    "    for column in columns:\n",
    "        plot = plt.figure(figsize=(15,5))\n",
    "        axis_1 = plot.add_subplot(1, 2, 1)\n",
    "        axis_1.title.set_text('less missing')\n",
    "        sns.countplot(subset_1[column])\n",
    "\n",
    "        axis_2 = plot.add_subplot(1, 2, 2)\n",
    "        axis_2.title.set_text('more missing')\n",
    "        sns.countplot(subset_2[column]);\n",
    "\n",
    "        plot.suptitle(column)\n",
    "        plt.show()    \n",
    "    \n",
    "compare_distr(subset1, subset2,['ANREDE_KZ','SEMIO_SOZ', 'HH_EINKOMMEN_SCORE', 'ONLINE_AFFINITAET','FINANZTYP'])"
   ]
  },
  {
   "cell_type": "code",
   "execution_count": null,
   "metadata": {},
   "outputs": [],
   "source": []
  },
  {
   "cell_type": "markdown",
   "metadata": {},
   "source": [
    "#### Discussion 1.1.3: Assess Missing Data in Each Row\n",
    "\n",
    "We created two subsets one which has missing values less than 20 and the other one with missing values more than 20. \n",
    "and 5 features were selected to observe plots of each.\n",
    "the data subset with less missing values distrubtion is greatly different than the one with more miising values."
   ]
  },
  {
   "cell_type": "markdown",
   "metadata": {},
   "source": [
    "### Step 1.2: Select and Re-Encode Features\n",
    "\n",
    "Checking for missing data isn't the only way in which you can prepare a dataset for analysis. Since the unsupervised learning techniques to be used will only work on data that is encoded numerically, you need to make a few encoding changes or additional assumptions to be able to make progress. In addition, while almost all of the values in the dataset are encoded using numbers, not all of them represent numeric values. Check the third column of the feature summary (`feat_info`) for a summary of types of measurement.\n",
    "- For numeric and interval data, these features can be kept without changes.\n",
    "- Most of the variables in the dataset are ordinal in nature. While ordinal values may technically be non-linear in spacing, make the simplifying assumption that the ordinal variables can be treated as being interval in nature (that is, kept without any changes).\n",
    "- Special handling may be necessary for the remaining two variable types: categorical, and 'mixed'.\n",
    "\n",
    "In the first two parts of this sub-step, you will perform an investigation of the categorical and mixed-type features and make a decision on each of them, whether you will keep, drop, or re-encode each. Then, in the last part, you will create a new data frame with only the selected and engineered columns.\n",
    "\n",
    "Data wrangling is often the trickiest part of the data analysis process, and there's a lot of it to be done here. But stick with it: once you're done with this step, you'll be ready to get to the machine learning parts of the project!"
   ]
  },
  {
   "cell_type": "code",
   "execution_count": 17,
   "metadata": {},
   "outputs": [
    {
     "data": {
      "text/plain": [
       "ordinal        49\n",
       "categorical    21\n",
       "numeric         7\n",
       "mixed           7\n",
       "interval        1\n",
       "Name: type, dtype: int64"
      ]
     },
     "execution_count": 17,
     "metadata": {},
     "output_type": "execute_result"
    }
   ],
   "source": [
    "# How many features are there of each data type?\n",
    "\n",
    "feat_info.type.value_counts()\n"
   ]
  },
  {
   "cell_type": "code",
   "execution_count": 18,
   "metadata": {},
   "outputs": [
    {
     "data": {
      "text/html": [
       "<div>\n",
       "<style scoped>\n",
       "    .dataframe tbody tr th:only-of-type {\n",
       "        vertical-align: middle;\n",
       "    }\n",
       "\n",
       "    .dataframe tbody tr th {\n",
       "        vertical-align: top;\n",
       "    }\n",
       "\n",
       "    .dataframe thead th {\n",
       "        text-align: right;\n",
       "    }\n",
       "</style>\n",
       "<table border=\"1\" class=\"dataframe\">\n",
       "  <thead>\n",
       "    <tr style=\"text-align: right;\">\n",
       "      <th></th>\n",
       "      <th>attribute</th>\n",
       "      <th>information_level</th>\n",
       "      <th>missing_or_unknown</th>\n",
       "    </tr>\n",
       "    <tr>\n",
       "      <th>type</th>\n",
       "      <th></th>\n",
       "      <th></th>\n",
       "      <th></th>\n",
       "    </tr>\n",
       "  </thead>\n",
       "  <tbody>\n",
       "    <tr>\n",
       "      <th>categorical</th>\n",
       "      <td>21</td>\n",
       "      <td>21</td>\n",
       "      <td>21</td>\n",
       "    </tr>\n",
       "    <tr>\n",
       "      <th>interval</th>\n",
       "      <td>1</td>\n",
       "      <td>1</td>\n",
       "      <td>1</td>\n",
       "    </tr>\n",
       "    <tr>\n",
       "      <th>mixed</th>\n",
       "      <td>7</td>\n",
       "      <td>7</td>\n",
       "      <td>7</td>\n",
       "    </tr>\n",
       "    <tr>\n",
       "      <th>numeric</th>\n",
       "      <td>7</td>\n",
       "      <td>7</td>\n",
       "      <td>7</td>\n",
       "    </tr>\n",
       "    <tr>\n",
       "      <th>ordinal</th>\n",
       "      <td>49</td>\n",
       "      <td>49</td>\n",
       "      <td>49</td>\n",
       "    </tr>\n",
       "  </tbody>\n",
       "</table>\n",
       "</div>"
      ],
      "text/plain": [
       "             attribute  information_level  missing_or_unknown\n",
       "type                                                         \n",
       "categorical         21                 21                  21\n",
       "interval             1                  1                   1\n",
       "mixed                7                  7                   7\n",
       "numeric              7                  7                   7\n",
       "ordinal             49                 49                  49"
      ]
     },
     "execution_count": 18,
     "metadata": {},
     "output_type": "execute_result"
    }
   ],
   "source": [
    "count_type=feat_info.groupby('type').count()\n",
    "count_type"
   ]
  },
  {
   "cell_type": "markdown",
   "metadata": {},
   "source": [
    "#### Step 1.2.1: Re-Encode Categorical Features\n",
    "\n",
    "For categorical data, you would ordinarily need to encode the levels as dummy variables. Depending on the number of categories, perform one of the following:\n",
    "- For binary (two-level) categoricals that take numeric values, you can keep them without needing to do anything.\n",
    "- There is one binary variable that takes on non-numeric values. For this one, you need to re-encode the values as numbers or create a dummy variable.\n",
    "- For multi-level categoricals (three or more values), you can choose to encode the values using multiple dummy variables (e.g. via [OneHotEncoder](http://scikit-learn.org/stable/modules/generated/sklearn.preprocessing.OneHotEncoder.html)), or (to keep things straightforward) just drop them from the analysis. As always, document your choices in the Discussion section."
   ]
  },
  {
   "cell_type": "code",
   "execution_count": 19,
   "metadata": {},
   "outputs": [
    {
     "name": "stdout",
     "output_type": "stream",
     "text": [
      "0             AGER_TYP\n",
      "2            ANREDE_KZ\n",
      "3        CJT_GESAMTTYP\n",
      "10           FINANZTYP\n",
      "12     GFK_URLAUBERTYP\n",
      "13    GREEN_AVANTGARDE\n",
      "17     LP_FAMILIE_FEIN\n",
      "18     LP_FAMILIE_GROB\n",
      "19      LP_STATUS_FEIN\n",
      "20      LP_STATUS_GROB\n",
      "21    NATIONALITAET_KZ\n",
      "38         SHOPPER_TYP\n",
      "39             SOHO_KZ\n",
      "40            TITEL_KZ\n",
      "41            VERS_TYP\n",
      "42            ZABEOTYP\n",
      "47        KK_KUNDENTYP\n",
      "52         GEBAEUDETYP\n",
      "55         OST_WEST_KZ\n",
      "57     CAMEO_DEUG_2015\n",
      "58      CAMEO_DEU_2015\n",
      "Name: attribute, dtype: object\n"
     ]
    }
   ],
   "source": [
    "# Assess categorical variables: which are binary, which are multi-level, and\n",
    "# which one needs to be re-encoded?\n",
    "\n",
    "cat_features = feat_info[feat_info.type == 'categorical']['attribute']\n",
    "mixed_features = feat_info[feat_info.type == 'mixed']['attribute']\n",
    "print(cat_features)\n",
    "\n"
   ]
  },
  {
   "cell_type": "code",
   "execution_count": 20,
   "metadata": {},
   "outputs": [
    {
     "name": "stdout",
     "output_type": "stream",
     "text": [
      "15      LP_LEBENSPHASE_FEIN\n",
      "16      LP_LEBENSPHASE_GROB\n",
      "22    PRAEGENDE_JUGENDJAHRE\n",
      "56                 WOHNLAGE\n",
      "59          CAMEO_INTL_2015\n",
      "64             KBA05_BAUMAX\n",
      "79              PLZ8_BAUMAX\n",
      "Name: attribute, dtype: object\n"
     ]
    }
   ],
   "source": [
    "print(mixed_features)\n"
   ]
  },
  {
   "cell_type": "code",
   "execution_count": 21,
   "metadata": {},
   "outputs": [],
   "source": [
    "feat_iinfo=feat_info.copy()\n",
    "feat_iinfo.set_index('attribute', inplace=True)\n",
    "\n",
    "def get_bmm(df):\n",
    "    binary = {}\n",
    "    multi_lvl = {}\n",
    "    mixed = {}\n",
    "    for i in df.columns:\n",
    "        if feat_iinfo.loc[i].type == 'categorical':\n",
    "            n = df[i].nunique()\n",
    "            if n > 2:\n",
    "                multi_lvl[i] = [df[i].nunique(), df[i].dtype]\n",
    "            else:\n",
    "                binary[i] = [df[i].nunique(), df[i].dtype]\n",
    "            \n",
    "        elif feat_iinfo.loc[i].type == 'mixed':\n",
    "            mixed[i] = [df[i].nunique(), df[i].dtype]\n",
    "\n",
    "    return binary, multi_lvl, mixed"
   ]
  },
  {
   "cell_type": "code",
   "execution_count": 22,
   "metadata": {},
   "outputs": [],
   "source": [
    "binary, multi_lvl, mixed = get_bmm(azdias)"
   ]
  },
  {
   "cell_type": "code",
   "execution_count": 23,
   "metadata": {},
   "outputs": [
    {
     "data": {
      "text/plain": [
       "{'ANREDE_KZ': [2, dtype('int64')],\n",
       " 'GREEN_AVANTGARDE': [2, dtype('int64')],\n",
       " 'SOHO_KZ': [2, dtype('float64')],\n",
       " 'VERS_TYP': [2, dtype('float64')],\n",
       " 'OST_WEST_KZ': [2, dtype('O')]}"
      ]
     },
     "execution_count": 23,
     "metadata": {},
     "output_type": "execute_result"
    }
   ],
   "source": [
    "binary\n"
   ]
  },
  {
   "cell_type": "code",
   "execution_count": 24,
   "metadata": {},
   "outputs": [
    {
     "data": {
      "text/plain": [
       "{'CJT_GESAMTTYP': [6, dtype('float64')],\n",
       " 'FINANZTYP': [6, dtype('int64')],\n",
       " 'GFK_URLAUBERTYP': [12, dtype('float64')],\n",
       " 'LP_FAMILIE_FEIN': [11, dtype('float64')],\n",
       " 'LP_FAMILIE_GROB': [5, dtype('float64')],\n",
       " 'LP_STATUS_FEIN': [10, dtype('float64')],\n",
       " 'LP_STATUS_GROB': [5, dtype('float64')],\n",
       " 'NATIONALITAET_KZ': [3, dtype('float64')],\n",
       " 'SHOPPER_TYP': [4, dtype('float64')],\n",
       " 'ZABEOTYP': [6, dtype('int64')],\n",
       " 'GEBAEUDETYP': [7, dtype('float64')],\n",
       " 'CAMEO_DEUG_2015': [9, dtype('O')],\n",
       " 'CAMEO_DEU_2015': [44, dtype('O')]}"
      ]
     },
     "execution_count": 24,
     "metadata": {},
     "output_type": "execute_result"
    }
   ],
   "source": [
    "multi_lvl\n"
   ]
  },
  {
   "cell_type": "code",
   "execution_count": 25,
   "metadata": {
    "scrolled": true
   },
   "outputs": [
    {
     "data": {
      "text/plain": [
       "{'LP_LEBENSPHASE_FEIN': [40, dtype('float64')],\n",
       " 'LP_LEBENSPHASE_GROB': [12, dtype('float64')],\n",
       " 'PRAEGENDE_JUGENDJAHRE': [15, dtype('float64')],\n",
       " 'WOHNLAGE': [8, dtype('float64')],\n",
       " 'CAMEO_INTL_2015': [21, dtype('O')],\n",
       " 'PLZ8_BAUMAX': [5, dtype('float64')]}"
      ]
     },
     "execution_count": 25,
     "metadata": {},
     "output_type": "execute_result"
    }
   ],
   "source": [
    "mixed\n"
   ]
  },
  {
   "cell_type": "code",
   "execution_count": 26,
   "metadata": {},
   "outputs": [],
   "source": [
    "def checkcat(typecat):\n",
    "    print('\\n\\n '+typecat+'\\n')\n",
    "    print(azdias[typecat].value_counts())"
   ]
  },
  {
   "cell_type": "code",
   "execution_count": 27,
   "metadata": {},
   "outputs": [
    {
     "name": "stdout",
     "output_type": "stream",
     "text": [
      "\n",
      "\n",
      " GREEN_AVANTGARDE\n",
      "\n",
      "0    715996\n",
      "1    175225\n",
      "Name: GREEN_AVANTGARDE, dtype: int64\n",
      "\n",
      "\n",
      " OST_WEST_KZ\n",
      "\n",
      "W    629528\n",
      "O    168545\n",
      "Name: OST_WEST_KZ, dtype: int64\n",
      "\n",
      "\n",
      " CAMEO_DEUG_2015\n",
      "\n",
      "8    134441\n",
      "9    108177\n",
      "6    105874\n",
      "4    103912\n",
      "3     86779\n",
      "2     83231\n",
      "7     77933\n",
      "5     55310\n",
      "1     36212\n",
      "Name: CAMEO_DEUG_2015, dtype: int64\n",
      "\n",
      "\n",
      " CAMEO_DEU_2015\n",
      "\n",
      "6B    56672\n",
      "8A    52438\n",
      "4C    47819\n",
      "2D    35074\n",
      "3C    34769\n",
      "7A    34399\n",
      "3D    34307\n",
      "8B    33434\n",
      "4A    33155\n",
      "8C    30993\n",
      "9D    28593\n",
      "9B    27676\n",
      "9C    24987\n",
      "7B    24503\n",
      "9A    20542\n",
      "2C    19422\n",
      "8D    17576\n",
      "6E    16107\n",
      "2B    15486\n",
      "5D    14943\n",
      "6C    14820\n",
      "2A    13249\n",
      "5A    12214\n",
      "1D    11909\n",
      "1A    10850\n",
      "3A    10543\n",
      "5B    10354\n",
      "5C     9935\n",
      "7C     9065\n",
      "4B     9047\n",
      "4D     8570\n",
      "3B     7160\n",
      "6A     6810\n",
      "9E     6379\n",
      "6D     6073\n",
      "6F     5392\n",
      "7D     5333\n",
      "4E     5321\n",
      "1E     5065\n",
      "7E     4633\n",
      "1C     4317\n",
      "5F     4283\n",
      "1B     4071\n",
      "5E     3581\n",
      "Name: CAMEO_DEU_2015, dtype: int64\n",
      "\n",
      "\n",
      " LP_LEBENSPHASE_FEIN\n",
      "\n",
      "1.0     62667\n",
      "5.0     55542\n",
      "6.0     45614\n",
      "2.0     39434\n",
      "8.0     30475\n",
      "11.0    26710\n",
      "29.0    26577\n",
      "7.0     26508\n",
      "13.0    26085\n",
      "10.0    25789\n",
      "31.0    23987\n",
      "12.0    23300\n",
      "30.0    22361\n",
      "15.0    20062\n",
      "3.0     19985\n",
      "19.0    19484\n",
      "37.0    18525\n",
      "4.0     17595\n",
      "14.0    17529\n",
      "20.0    17132\n",
      "32.0    17105\n",
      "39.0    16182\n",
      "40.0    15150\n",
      "27.0    14475\n",
      "16.0    14466\n",
      "38.0    13914\n",
      "35.0    13679\n",
      "34.0    13074\n",
      "9.0     13066\n",
      "21.0    12766\n",
      "28.0    12264\n",
      "24.0    12091\n",
      "36.0    10505\n",
      "25.0    10370\n",
      "23.0     9191\n",
      "22.0     7224\n",
      "18.0     7168\n",
      "33.0     6066\n",
      "17.0     5888\n",
      "26.0     3584\n",
      "Name: LP_LEBENSPHASE_FEIN, dtype: int64\n",
      "\n",
      "\n",
      " LP_LEBENSPHASE_GROB\n",
      "\n",
      "2.0     158139\n",
      "1.0     139681\n",
      "3.0     115624\n",
      "12.0     74276\n",
      "4.0      54443\n",
      "5.0      49672\n",
      "9.0      48938\n",
      "10.0     41092\n",
      "11.0     32819\n",
      "8.0      30323\n",
      "6.0      29181\n",
      "7.0      22461\n",
      "Name: LP_LEBENSPHASE_GROB, dtype: int64\n",
      "\n",
      "\n",
      " PRAEGENDE_JUGENDJAHRE\n",
      "\n",
      "14.0    188697\n",
      "8.0     145988\n",
      "5.0      86416\n",
      "10.0     85808\n",
      "3.0      55195\n",
      "15.0     42547\n",
      "11.0     35752\n",
      "9.0      33570\n",
      "6.0      25652\n",
      "12.0     24446\n",
      "1.0      21282\n",
      "4.0      20451\n",
      "2.0       7479\n",
      "13.0      5764\n",
      "7.0       4010\n",
      "Name: PRAEGENDE_JUGENDJAHRE, dtype: int64\n",
      "\n",
      "\n",
      " WOHNLAGE\n",
      "\n",
      "3.0    249719\n",
      "7.0    169318\n",
      "4.0    135973\n",
      "2.0    100376\n",
      "5.0     74346\n",
      "1.0     43918\n",
      "8.0     17473\n",
      "0.0      6950\n",
      "Name: WOHNLAGE, dtype: int64\n",
      "\n",
      "\n",
      " PLZ8_BAUMAX\n",
      "\n",
      "1.0    499550\n",
      "5.0     97333\n",
      "2.0     70407\n",
      "4.0     56684\n",
      "3.0     50732\n",
      "Name: PLZ8_BAUMAX, dtype: int64\n",
      "\n",
      "\n",
      " CAMEO_INTL_2015\n",
      "\n",
      "51    133694\n",
      "41     92336\n",
      "24     91158\n",
      "14     62884\n",
      "43     56672\n",
      "54     45391\n",
      "25     39628\n",
      "22     33155\n",
      "23     26750\n",
      "13     26336\n",
      "45     26132\n",
      "55     23955\n",
      "52     20542\n",
      "31     19024\n",
      "34     18524\n",
      "15     16974\n",
      "44     14820\n",
      "12     13249\n",
      "35     10356\n",
      "32     10354\n",
      "33      9935\n",
      "Name: CAMEO_INTL_2015, dtype: int64\n"
     ]
    }
   ],
   "source": [
    "checkcat('GREEN_AVANTGARDE')\n",
    "checkcat('OST_WEST_KZ')\n",
    "checkcat('CAMEO_DEUG_2015')\n",
    "checkcat('CAMEO_DEU_2015')\n",
    "checkcat('LP_LEBENSPHASE_FEIN')\n",
    "checkcat('LP_LEBENSPHASE_GROB')\n",
    "checkcat('PRAEGENDE_JUGENDJAHRE')\n",
    "checkcat('WOHNLAGE')\n",
    "checkcat('PLZ8_BAUMAX')\n",
    "checkcat('CAMEO_INTL_2015')\n"
   ]
  },
  {
   "cell_type": "code",
   "execution_count": 28,
   "metadata": {},
   "outputs": [
    {
     "name": "stderr",
     "output_type": "stream",
     "text": [
      "/opt/conda/lib/python3.6/site-packages/ipykernel_launcher.py:4: SettingWithCopyWarning: \n",
      "A value is trying to be set on a copy of a slice from a DataFrame.\n",
      "Try using .loc[row_indexer,col_indexer] = value instead\n",
      "\n",
      "See the caveats in the documentation: http://pandas.pydata.org/pandas-docs/stable/indexing.html#indexing-view-versus-copy\n",
      "  after removing the cwd from sys.path.\n",
      "/opt/conda/lib/python3.6/site-packages/ipykernel_launcher.py:5: SettingWithCopyWarning: \n",
      "A value is trying to be set on a copy of a slice from a DataFrame.\n",
      "Try using .loc[row_indexer,col_indexer] = value instead\n",
      "\n",
      "See the caveats in the documentation: http://pandas.pydata.org/pandas-docs/stable/indexing.html#indexing-view-versus-copy\n",
      "  \"\"\"\n",
      "/opt/conda/lib/python3.6/site-packages/pandas/core/frame.py:3697: SettingWithCopyWarning: \n",
      "A value is trying to be set on a copy of a slice from a DataFrame\n",
      "\n",
      "See the caveats in the documentation: http://pandas.pydata.org/pandas-docs/stable/indexing.html#indexing-view-versus-copy\n",
      "  errors=errors)\n"
     ]
    }
   ],
   "source": [
    "# Re-encode categorical variable(s) to be kept in the analysis.\n",
    "\n",
    "#Convert GREEN_AVANTGARDE to float and mapping OST_WEST_KZ\n",
    "subset1['GREEN_AVANTGARDE'] = subset1['GREEN_AVANTGARDE'].astype(float)\n",
    "subset1['OST_WEST_KZ'] = subset1['OST_WEST_KZ'].map({'W':1,'O':0})\n",
    "\n",
    "for i in multi_lvl:\n",
    "    subset1.drop(i, axis=1, inplace=True)"
   ]
  },
  {
   "cell_type": "code",
   "execution_count": 29,
   "metadata": {},
   "outputs": [
    {
     "data": {
      "text/plain": [
       "(797426, 66)"
      ]
     },
     "execution_count": 29,
     "metadata": {},
     "output_type": "execute_result"
    }
   ],
   "source": [
    "subset1.shape\n"
   ]
  },
  {
   "cell_type": "code",
   "execution_count": 30,
   "metadata": {},
   "outputs": [
    {
     "data": {
      "text/plain": [
       "1    628987\n",
       "0    168439\n",
       "Name: OST_WEST_KZ, dtype: int64"
      ]
     },
     "execution_count": 30,
     "metadata": {},
     "output_type": "execute_result"
    }
   ],
   "source": [
    "subset1['OST_WEST_KZ'].value_counts()"
   ]
  },
  {
   "cell_type": "markdown",
   "metadata": {},
   "source": [
    "#### Discussion 1.2.1: Re-Encode Categorical Features\n",
    "\n",
    "Dropped all multi-level features.\n",
    "\n",
    "Categorcial features are left unchanged except 'OST_WEST_KZ' we covert W to 1 & O to 0. And casting 'GREEN_AVANTGARDE' to be float."
   ]
  },
  {
   "cell_type": "markdown",
   "metadata": {},
   "source": [
    "#### Step 1.2.2: Engineer Mixed-Type Features\n",
    "\n",
    "There are a handful of features that are marked as \"mixed\" in the feature summary that require special treatment in order to be included in the analysis. There are two in particular that deserve attention; the handling of the rest are up to your own choices:\n",
    "- \"PRAEGENDE_JUGENDJAHRE\" combines information on three dimensions: generation by decade, movement (mainstream vs. avantgarde), and nation (east vs. west). While there aren't enough levels to disentangle east from west, you should create two new variables to capture the other two dimensions: an interval-type variable for decade, and a binary variable for movement.\n",
    "- \"CAMEO_INTL_2015\" combines information on two axes: wealth and life stage. Break up the two-digit codes by their 'tens'-place and 'ones'-place digits into two new ordinal variables (which, for the purposes of this project, is equivalent to just treating them as their raw numeric values).\n",
    "- If you decide to keep or engineer new features around the other mixed-type features, make sure you note your steps in the Discussion section.\n",
    "\n",
    "Be sure to check `Data_Dictionary.md` for the details needed to finish these tasks."
   ]
  },
  {
   "cell_type": "code",
   "execution_count": 31,
   "metadata": {},
   "outputs": [
    {
     "data": {
      "text/plain": [
       "14.0    182903\n",
       "8.0     141542\n",
       "10.0     85767\n",
       "5.0      84665\n",
       "3.0      53822\n",
       "15.0     42521\n",
       "11.0     35735\n",
       "9.0      33563\n",
       "6.0      25651\n",
       "12.0     24440\n",
       "1.0      20662\n",
       "4.0      20450\n",
       "2.0       7479\n",
       "13.0      5759\n",
       "7.0       4009\n",
       "Name: PRAEGENDE_JUGENDJAHRE, dtype: int64"
      ]
     },
     "execution_count": 31,
     "metadata": {},
     "output_type": "execute_result"
    }
   ],
   "source": [
    "subset1['PRAEGENDE_JUGENDJAHRE'].value_counts()"
   ]
  },
  {
   "cell_type": "code",
   "execution_count": 32,
   "metadata": {},
   "outputs": [],
   "source": [
    "decade_dict = {1:1, 2:1, 3:2, 4:2, 5:3, 6:3, 7:3, 8:4, 9:4, 10:5, 11:5, 12:5, 13:5, 14:6, 15:6}\n",
    "movement_dict = {1:1, 2:0, 3:1, 4:0, 5:1, 6:0, 7:0, 8:1, 9:0, 10:1, 11:0, 12:1, 13:0, 14:1, 15:0}"
   ]
  },
  {
   "cell_type": "code",
   "execution_count": 33,
   "metadata": {},
   "outputs": [
    {
     "name": "stderr",
     "output_type": "stream",
     "text": [
      "/opt/conda/lib/python3.6/site-packages/ipykernel_launcher.py:2: SettingWithCopyWarning: \n",
      "A value is trying to be set on a copy of a slice from a DataFrame.\n",
      "Try using .loc[row_indexer,col_indexer] = value instead\n",
      "\n",
      "See the caveats in the documentation: http://pandas.pydata.org/pandas-docs/stable/indexing.html#indexing-view-versus-copy\n",
      "  \n",
      "/opt/conda/lib/python3.6/site-packages/ipykernel_launcher.py:3: SettingWithCopyWarning: \n",
      "A value is trying to be set on a copy of a slice from a DataFrame.\n",
      "Try using .loc[row_indexer,col_indexer] = value instead\n",
      "\n",
      "See the caveats in the documentation: http://pandas.pydata.org/pandas-docs/stable/indexing.html#indexing-view-versus-copy\n",
      "  This is separate from the ipykernel package so we can avoid doing imports until\n"
     ]
    }
   ],
   "source": [
    "\n",
    "subset1['DECADE'] = subset1['PRAEGENDE_JUGENDJAHRE'].map(decade_dict)\n",
    "subset1['MOVEMENT'] = subset1['PRAEGENDE_JUGENDJAHRE'].map(movement_dict)"
   ]
  },
  {
   "cell_type": "code",
   "execution_count": 34,
   "metadata": {},
   "outputs": [
    {
     "data": {
      "text/html": [
       "<div>\n",
       "<style scoped>\n",
       "    .dataframe tbody tr th:only-of-type {\n",
       "        vertical-align: middle;\n",
       "    }\n",
       "\n",
       "    .dataframe tbody tr th {\n",
       "        vertical-align: top;\n",
       "    }\n",
       "\n",
       "    .dataframe thead th {\n",
       "        text-align: right;\n",
       "    }\n",
       "</style>\n",
       "<table border=\"1\" class=\"dataframe\">\n",
       "  <thead>\n",
       "    <tr style=\"text-align: right;\">\n",
       "      <th></th>\n",
       "      <th>PRAEGENDE_JUGENDJAHRE</th>\n",
       "      <th>DECADE</th>\n",
       "      <th>MOVEMENT</th>\n",
       "    </tr>\n",
       "  </thead>\n",
       "  <tbody>\n",
       "    <tr>\n",
       "      <th>1</th>\n",
       "      <td>14.0</td>\n",
       "      <td>6.0</td>\n",
       "      <td>1.0</td>\n",
       "    </tr>\n",
       "    <tr>\n",
       "      <th>2</th>\n",
       "      <td>15.0</td>\n",
       "      <td>6.0</td>\n",
       "      <td>0.0</td>\n",
       "    </tr>\n",
       "    <tr>\n",
       "      <th>3</th>\n",
       "      <td>8.0</td>\n",
       "      <td>4.0</td>\n",
       "      <td>1.0</td>\n",
       "    </tr>\n",
       "    <tr>\n",
       "      <th>4</th>\n",
       "      <td>8.0</td>\n",
       "      <td>4.0</td>\n",
       "      <td>1.0</td>\n",
       "    </tr>\n",
       "    <tr>\n",
       "      <th>5</th>\n",
       "      <td>3.0</td>\n",
       "      <td>2.0</td>\n",
       "      <td>1.0</td>\n",
       "    </tr>\n",
       "  </tbody>\n",
       "</table>\n",
       "</div>"
      ],
      "text/plain": [
       "   PRAEGENDE_JUGENDJAHRE  DECADE  MOVEMENT\n",
       "1                   14.0     6.0       1.0\n",
       "2                   15.0     6.0       0.0\n",
       "3                    8.0     4.0       1.0\n",
       "4                    8.0     4.0       1.0\n",
       "5                    3.0     2.0       1.0"
      ]
     },
     "execution_count": 34,
     "metadata": {},
     "output_type": "execute_result"
    }
   ],
   "source": [
    "subset1[['PRAEGENDE_JUGENDJAHRE', 'DECADE', 'MOVEMENT']].head()"
   ]
  },
  {
   "cell_type": "code",
   "execution_count": 35,
   "metadata": {},
   "outputs": [
    {
     "name": "stderr",
     "output_type": "stream",
     "text": [
      "/opt/conda/lib/python3.6/site-packages/ipykernel_launcher.py:5: SettingWithCopyWarning: \n",
      "A value is trying to be set on a copy of a slice from a DataFrame.\n",
      "Try using .loc[row_indexer,col_indexer] = value instead\n",
      "\n",
      "See the caveats in the documentation: http://pandas.pydata.org/pandas-docs/stable/indexing.html#indexing-view-versus-copy\n",
      "  \"\"\"\n",
      "/opt/conda/lib/python3.6/site-packages/ipykernel_launcher.py:6: SettingWithCopyWarning: \n",
      "A value is trying to be set on a copy of a slice from a DataFrame.\n",
      "Try using .loc[row_indexer,col_indexer] = value instead\n",
      "\n",
      "See the caveats in the documentation: http://pandas.pydata.org/pandas-docs/stable/indexing.html#indexing-view-versus-copy\n",
      "  \n"
     ]
    }
   ],
   "source": [
    "wealth_map = {11:1, 12:1, 13:1, 14:1, 15:1, 21:2, 22:2, 23:2, 24:2, 25:2, 31:3, 32:3, 33:3, 34:3, 35:3, 41:4, 42:4,\n",
    "              43:4, 44:4, 45:4, 51:5, 52:5, 53:5, 54:5, 55:5}\n",
    "life_stage_map = {11:1, 12:2, 13:3, 14:4, 15:5, 21:1, 22:2, 23:3, 24:4, 25:5, 31:1, 32:2, 33:3, 34:4, 35:5, 41:1, 42:2,\n",
    "                  43:3, 44:4, 45:5, 51:1, 52:2, 53:3, 54:4, 55:5}\n",
    "subset1['WEALTH'] = subset1['CAMEO_INTL_2015'].astype(float).map(wealth_map)\n",
    "subset1['LIFE_STAGE'] = subset1['CAMEO_INTL_2015'].astype(float).map(life_stage_map)"
   ]
  },
  {
   "cell_type": "code",
   "execution_count": 36,
   "metadata": {},
   "outputs": [
    {
     "name": "stderr",
     "output_type": "stream",
     "text": [
      "/opt/conda/lib/python3.6/site-packages/ipykernel_launcher.py:1: SettingWithCopyWarning: \n",
      "A value is trying to be set on a copy of a slice from a DataFrame.\n",
      "Try using .loc[row_indexer,col_indexer] = value instead\n",
      "\n",
      "See the caveats in the documentation: http://pandas.pydata.org/pandas-docs/stable/indexing.html#indexing-view-versus-copy\n",
      "  \"\"\"Entry point for launching an IPython kernel.\n",
      "/opt/conda/lib/python3.6/site-packages/pandas/core/frame.py:3697: SettingWithCopyWarning: \n",
      "A value is trying to be set on a copy of a slice from a DataFrame\n",
      "\n",
      "See the caveats in the documentation: http://pandas.pydata.org/pandas-docs/stable/indexing.html#indexing-view-versus-copy\n",
      "  errors=errors)\n"
     ]
    }
   ],
   "source": [
    "subset1['WOHNLAGE'] = subset1['WOHNLAGE'].astype(int)\n",
    "subset1.drop(['LP_LEBENSPHASE_FEIN', 'LP_LEBENSPHASE_GROB', 'CAMEO_INTL_2015', 'PRAEGENDE_JUGENDJAHRE'], inplace=True, axis=1)"
   ]
  },
  {
   "cell_type": "markdown",
   "metadata": {},
   "source": [
    "#### Discussion 1.2.2: Engineer Mixed-Type Features\n",
    "\n",
    "Created two new feature columns from PRAEGENDE_JUGENDJAHRE and CAMEO_INTL_2015\n",
    "Created two dictionaries to map intial feature values to new feature values\n",
    "Performed a replace operation using the dictionaries on the new feature columns\n",
    "\n"
   ]
  },
  {
   "cell_type": "code",
   "execution_count": 37,
   "metadata": {},
   "outputs": [
    {
     "name": "stdout",
     "output_type": "stream",
     "text": [
      "<class 'pandas.core.frame.DataFrame'>\n",
      "Int64Index: 797426 entries, 1 to 891220\n",
      "Data columns (total 66 columns):\n",
      "ALTERSKATEGORIE_GROB     794642 non-null float64\n",
      "ANREDE_KZ                797426 non-null int64\n",
      "FINANZ_MINIMALIST        797426 non-null int64\n",
      "FINANZ_SPARER            797426 non-null int64\n",
      "FINANZ_VORSORGER         797426 non-null int64\n",
      "FINANZ_ANLEGER           797426 non-null int64\n",
      "FINANZ_UNAUFFAELLIGER    797426 non-null int64\n",
      "FINANZ_HAUSBAUER         797426 non-null int64\n",
      "GREEN_AVANTGARDE         797426 non-null float64\n",
      "HEALTH_TYP               761009 non-null float64\n",
      "RETOURTYP_BK_S           792792 non-null float64\n",
      "SEMIO_SOZ                797426 non-null int64\n",
      "SEMIO_FAM                797426 non-null int64\n",
      "SEMIO_REL                797426 non-null int64\n",
      "SEMIO_MAT                797426 non-null int64\n",
      "SEMIO_VERT               797426 non-null int64\n",
      "SEMIO_LUST               797426 non-null int64\n",
      "SEMIO_ERL                797426 non-null int64\n",
      "SEMIO_KULT               797426 non-null int64\n",
      "SEMIO_RAT                797426 non-null int64\n",
      "SEMIO_KRIT               797426 non-null int64\n",
      "SEMIO_DOM                797426 non-null int64\n",
      "SEMIO_KAEM               797426 non-null int64\n",
      "SEMIO_PFLICHT            797426 non-null int64\n",
      "SEMIO_TRADV              797426 non-null int64\n",
      "SOHO_KZ                  797426 non-null float64\n",
      "VERS_TYP                 761009 non-null float64\n",
      "ANZ_PERSONEN             797426 non-null float64\n",
      "ANZ_TITEL                797426 non-null float64\n",
      "HH_EINKOMMEN_SCORE       797426 non-null float64\n",
      "W_KEIT_KIND_HH           738526 non-null float64\n",
      "WOHNDAUER_2008           797426 non-null float64\n",
      "ANZ_HAUSHALTE_AKTIV      791096 non-null float64\n",
      "ANZ_HH_TITEL             793698 non-null float64\n",
      "KONSUMNAEHE              797358 non-null float64\n",
      "MIN_GEBAEUDEJAHR         797426 non-null float64\n",
      "OST_WEST_KZ              797426 non-null int64\n",
      "WOHNLAGE                 797426 non-null int64\n",
      "KBA05_ANTG1              757890 non-null float64\n",
      "KBA05_ANTG2              757890 non-null float64\n",
      "KBA05_ANTG3              757890 non-null float64\n",
      "KBA05_ANTG4              757890 non-null float64\n",
      "KBA05_GBZ                757890 non-null float64\n",
      "BALLRAUM                 796835 non-null float64\n",
      "EWDICHTE                 796835 non-null float64\n",
      "INNENSTADT               796835 non-null float64\n",
      "GEBAEUDETYP_RASTER       797421 non-null float64\n",
      "KKK                      732993 non-null float64\n",
      "MOBI_REGIO               757890 non-null float64\n",
      "ONLINE_AFFINITAET        792792 non-null float64\n",
      "REGIOTYP                 732993 non-null float64\n",
      "KBA13_ANZAHL_PKW         785169 non-null float64\n",
      "PLZ8_ANTG1               774697 non-null float64\n",
      "PLZ8_ANTG2               774697 non-null float64\n",
      "PLZ8_ANTG3               774697 non-null float64\n",
      "PLZ8_ANTG4               774697 non-null float64\n",
      "PLZ8_BAUMAX              774697 non-null float64\n",
      "PLZ8_HHZ                 774697 non-null float64\n",
      "PLZ8_GBZ                 774697 non-null float64\n",
      "ARBEIT                   793208 non-null float64\n",
      "ORTSGR_KLS9              793308 non-null float64\n",
      "RELAT_AB                 793208 non-null float64\n",
      "DECADE                   768968 non-null float64\n",
      "MOVEMENT                 768968 non-null float64\n",
      "WEALTH                   791423 non-null float64\n",
      "LIFE_STAGE               791423 non-null float64\n",
      "dtypes: float64(43), int64(23)\n",
      "memory usage: 427.6 MB\n"
     ]
    }
   ],
   "source": [
    "subset1.info()\n"
   ]
  },
  {
   "cell_type": "code",
   "execution_count": 38,
   "metadata": {},
   "outputs": [
    {
     "data": {
      "text/plain": [
       "Index(['ALTERSKATEGORIE_GROB', 'ANREDE_KZ', 'FINANZ_MINIMALIST',\n",
       "       'FINANZ_SPARER', 'FINANZ_VORSORGER', 'FINANZ_ANLEGER',\n",
       "       'FINANZ_UNAUFFAELLIGER', 'FINANZ_HAUSBAUER', 'GREEN_AVANTGARDE',\n",
       "       'HEALTH_TYP', 'RETOURTYP_BK_S', 'SEMIO_SOZ', 'SEMIO_FAM', 'SEMIO_REL',\n",
       "       'SEMIO_MAT', 'SEMIO_VERT', 'SEMIO_LUST', 'SEMIO_ERL', 'SEMIO_KULT',\n",
       "       'SEMIO_RAT', 'SEMIO_KRIT', 'SEMIO_DOM', 'SEMIO_KAEM', 'SEMIO_PFLICHT',\n",
       "       'SEMIO_TRADV', 'SOHO_KZ', 'VERS_TYP', 'ANZ_PERSONEN', 'ANZ_TITEL',\n",
       "       'HH_EINKOMMEN_SCORE', 'W_KEIT_KIND_HH', 'WOHNDAUER_2008',\n",
       "       'ANZ_HAUSHALTE_AKTIV', 'ANZ_HH_TITEL', 'KONSUMNAEHE',\n",
       "       'MIN_GEBAEUDEJAHR', 'OST_WEST_KZ', 'WOHNLAGE', 'KBA05_ANTG1',\n",
       "       'KBA05_ANTG2', 'KBA05_ANTG3', 'KBA05_ANTG4', 'KBA05_GBZ', 'BALLRAUM',\n",
       "       'EWDICHTE', 'INNENSTADT', 'GEBAEUDETYP_RASTER', 'KKK', 'MOBI_REGIO',\n",
       "       'ONLINE_AFFINITAET', 'REGIOTYP', 'KBA13_ANZAHL_PKW', 'PLZ8_ANTG1',\n",
       "       'PLZ8_ANTG2', 'PLZ8_ANTG3', 'PLZ8_ANTG4', 'PLZ8_BAUMAX', 'PLZ8_HHZ',\n",
       "       'PLZ8_GBZ', 'ARBEIT', 'ORTSGR_KLS9', 'RELAT_AB', 'DECADE', 'MOVEMENT',\n",
       "       'WEALTH', 'LIFE_STAGE'],\n",
       "      dtype='object')"
      ]
     },
     "execution_count": 38,
     "metadata": {},
     "output_type": "execute_result"
    }
   ],
   "source": [
    "subset1.columns"
   ]
  },
  {
   "cell_type": "code",
   "execution_count": null,
   "metadata": {},
   "outputs": [],
   "source": []
  },
  {
   "cell_type": "markdown",
   "metadata": {},
   "source": [
    "#### Step 1.2.3: Complete Feature Selection\n",
    "\n",
    "In order to finish this step up, you need to make sure that your data frame now only has the columns that you want to keep. To summarize, the dataframe should consist of the following:\n",
    "- All numeric, interval, and ordinal type columns from the original dataset.\n",
    "- Binary categorical features (all numerically-encoded).\n",
    "- Engineered features from other multi-level categorical features and mixed features.\n",
    "\n",
    "Make sure that for any new columns that you have engineered, that you've excluded the original columns from the final dataset. Otherwise, their values will interfere with the analysis later on the project. For example, you should not keep \"PRAEGENDE_JUGENDJAHRE\", since its values won't be useful for the algorithm: only the values derived from it in the engineered features you created should be retained. As a reminder, your data should only be from **the subset with few or no missing values**."
   ]
  },
  {
   "cell_type": "code",
   "execution_count": 39,
   "metadata": {},
   "outputs": [
    {
     "data": {
      "text/plain": [
       "Index(['ALTERSKATEGORIE_GROB', 'ANREDE_KZ', 'CJT_GESAMTTYP',\n",
       "       'FINANZ_MINIMALIST', 'FINANZ_SPARER', 'FINANZ_VORSORGER',\n",
       "       'FINANZ_ANLEGER', 'FINANZ_UNAUFFAELLIGER', 'FINANZ_HAUSBAUER',\n",
       "       'FINANZTYP', 'GFK_URLAUBERTYP', 'GREEN_AVANTGARDE', 'HEALTH_TYP',\n",
       "       'LP_LEBENSPHASE_FEIN', 'LP_LEBENSPHASE_GROB', 'LP_FAMILIE_FEIN',\n",
       "       'LP_FAMILIE_GROB', 'LP_STATUS_FEIN', 'LP_STATUS_GROB',\n",
       "       'NATIONALITAET_KZ', 'PRAEGENDE_JUGENDJAHRE', 'RETOURTYP_BK_S',\n",
       "       'SEMIO_SOZ', 'SEMIO_FAM', 'SEMIO_REL', 'SEMIO_MAT', 'SEMIO_VERT',\n",
       "       'SEMIO_LUST', 'SEMIO_ERL', 'SEMIO_KULT', 'SEMIO_RAT', 'SEMIO_KRIT',\n",
       "       'SEMIO_DOM', 'SEMIO_KAEM', 'SEMIO_PFLICHT', 'SEMIO_TRADV',\n",
       "       'SHOPPER_TYP', 'SOHO_KZ', 'VERS_TYP', 'ZABEOTYP', 'ANZ_PERSONEN',\n",
       "       'ANZ_TITEL', 'HH_EINKOMMEN_SCORE', 'W_KEIT_KIND_HH', 'WOHNDAUER_2008',\n",
       "       'ANZ_HAUSHALTE_AKTIV', 'ANZ_HH_TITEL', 'GEBAEUDETYP', 'KONSUMNAEHE',\n",
       "       'MIN_GEBAEUDEJAHR', 'OST_WEST_KZ', 'WOHNLAGE', 'CAMEO_DEUG_2015',\n",
       "       'CAMEO_DEU_2015', 'CAMEO_INTL_2015', 'KBA05_ANTG1', 'KBA05_ANTG2',\n",
       "       'KBA05_ANTG3', 'KBA05_ANTG4', 'KBA05_GBZ', 'BALLRAUM', 'EWDICHTE',\n",
       "       'INNENSTADT', 'GEBAEUDETYP_RASTER', 'KKK', 'MOBI_REGIO',\n",
       "       'ONLINE_AFFINITAET', 'REGIOTYP', 'KBA13_ANZAHL_PKW', 'PLZ8_ANTG1',\n",
       "       'PLZ8_ANTG2', 'PLZ8_ANTG3', 'PLZ8_ANTG4', 'PLZ8_BAUMAX', 'PLZ8_HHZ',\n",
       "       'PLZ8_GBZ', 'ARBEIT', 'ORTSGR_KLS9', 'RELAT_AB'],\n",
       "      dtype='object')"
      ]
     },
     "execution_count": 39,
     "metadata": {},
     "output_type": "execute_result"
    }
   ],
   "source": [
    "# If there are other re-engineering tasks you need to perform, make sure you\n",
    "# take care of them here. (Dealing with missing data will come in step 2.1.)\n",
    "\n",
    "azdias.columns"
   ]
  },
  {
   "cell_type": "code",
   "execution_count": 40,
   "metadata": {
    "scrolled": true
   },
   "outputs": [
    {
     "name": "stdout",
     "output_type": "stream",
     "text": [
      "ALTERSKATEGORIE_GROB -values:  [  2.   1.   3.   4.  nan]\n",
      "ANREDE_KZ -values:  [1 2]\n",
      "CJT_GESAMTTYP -values:  [  2.   5.   3.   4.   1.   6.  nan]\n",
      "FINANZ_MINIMALIST -values:  [3 1 4 2 5]\n",
      "FINANZ_SPARER -values:  [4 5 2 3 1]\n",
      "FINANZ_VORSORGER -values:  [3 2 1 5 4]\n",
      "FINANZ_ANLEGER -values:  [5 2 1 4 3]\n",
      "FINANZ_UNAUFFAELLIGER -values:  [5 4 3 1 2]\n",
      "FINANZ_HAUSBAUER -values:  [3 5 2 4 1]\n",
      "FINANZTYP -values:  [4 1 6 5 2 3]\n",
      "GFK_URLAUBERTYP -values:  [ 10.   1.   5.  12.   9.   3.   8.  11.   4.   2.   7.   6.  nan]\n",
      "GREEN_AVANTGARDE -values:  [0 1]\n",
      "HEALTH_TYP -values:  [ nan   3.   2.   1.]\n",
      "LP_LEBENSPHASE_FEIN -values:  [ 15.  21.   3.  nan  32.   8.   2.   5.  10.   4.   6.  23.  12.  20.   1.\n",
      "  11.  25.  13.   7.  18.  31.  19.  38.  35.  30.  22.  14.  33.  29.  24.\n",
      "  28.  37.  26.  39.  27.  36.   9.  34.  40.  16.  17.]\n",
      "LP_LEBENSPHASE_GROB -values:  [  4.   6.   1.  nan  10.   2.   3.   5.   7.  12.  11.   9.   8.]\n",
      "LP_FAMILIE_FEIN -values:  [  2.   5.   1.  nan  10.   7.  11.   3.   8.   4.   6.   9.]\n",
      "LP_FAMILIE_GROB -values:  [  2.   3.   1.  nan   5.   4.]\n",
      "LP_STATUS_FEIN -values:  [  1.   2.   3.   9.   4.  10.   5.   8.   6.   7.  nan]\n",
      "LP_STATUS_GROB -values:  [  1.   2.   4.   5.   3.  nan]\n",
      "NATIONALITAET_KZ -values:  [ nan   1.   3.   2.]\n",
      "PRAEGENDE_JUGENDJAHRE -values:  [ nan  14.  15.   8.   3.  10.  11.   5.   9.   6.   4.   2.   1.  12.  13.\n",
      "   7.]\n",
      "RETOURTYP_BK_S -values:  [  5.   1.   3.   2.   4.  nan]\n",
      "SEMIO_SOZ -values:  [2 5 4 6 7 3 1]\n",
      "SEMIO_FAM -values:  [6 4 1 5 7 2 3]\n",
      "SEMIO_REL -values:  [7 4 3 2 5 1 6]\n",
      "SEMIO_MAT -values:  [5 3 1 2 4 7 6]\n",
      "SEMIO_VERT -values:  [1 4 7 2 6 5 3]\n",
      "SEMIO_LUST -values:  [5 2 4 6 7 3 1]\n",
      "SEMIO_ERL -values:  [3 2 6 7 4 5 1]\n",
      "SEMIO_KULT -values:  [3 4 6 5 7 1 2]\n",
      "SEMIO_RAT -values:  [4 6 3 2 7 5 1]\n",
      "SEMIO_KRIT -values:  [7 4 3 1 5 6 2]\n",
      "SEMIO_DOM -values:  [6 7 4 2 1 5 3]\n",
      "SEMIO_KAEM -values:  [6 4 7 5 2 3 1]\n",
      "SEMIO_PFLICHT -values:  [5 7 3 4 1 6 2]\n",
      "SEMIO_TRADV -values:  [3 6 4 2 7 5 1]\n",
      "SHOPPER_TYP -values:  [ nan   3.   2.   1.   0.]\n",
      "SOHO_KZ -values:  [ nan   1.   0.]\n",
      "VERS_TYP -values:  [ nan   2.   1.]\n",
      "ZABEOTYP -values:  [3 5 4 1 6 2]\n",
      "ANZ_PERSONEN -values:  [ nan   2.   1.   0.   4.   3.   5.   7.   6.   8.  12.   9.  21.  10.  13.\n",
      "  11.  14.  45.  20.  31.  29.  37.  16.  22.  15.  23.  18.  35.  17.  40.\n",
      "  38.]\n",
      "ANZ_TITEL -values:  [ nan   0.   1.   2.   4.   3.   6.]\n",
      "HH_EINKOMMEN_SCORE -values:  [  2.   6.   4.   1.   5.   3.  nan]\n",
      "W_KEIT_KIND_HH -values:  [ nan   3.   2.   6.   5.   4.   1.]\n",
      "WOHNDAUER_2008 -values:  [ nan   9.   8.   3.   4.   5.   6.   2.   7.   1.]\n",
      "ANZ_HAUSHALTE_AKTIV -values:  [  nan   11.   10.    1.    3.    5.    4.    6.    2.    9.   14.   13.\n",
      "    8.    7.   44.   25.   36.   16.  272.   33.   15.   12.   22.   21.\n",
      "   20.   67.   23.   18.   27.   24.   31.   39.   19.   30.   17.   29.\n",
      "   61.   54.   88.   49.   60.   38.   34.   48.   35.   62.   26.   45.\n",
      "   42.   28.   77.   47.   50.  236.  137.   43.   52.   41.   76.   63.\n",
      "   32.   40.   37.   59.   53.   57.  118.   66.   95.   78.   70.   46.\n",
      "  185.   73.  154.   80.  102.   92.  126.   94.   71.   68.   81.   69.\n",
      "  121.  258.   58.   86.  124.   85.   90.  128.   51.   72.   64.   56.\n",
      "   83.  150.  259.   91.  160.  134.  169.  246.   82.  114.  183.  116.\n",
      "   74.  143.   99.  216.   98.  125.  112.  123.   55.  120.   75.  141.\n",
      "  103.   87.   89.  223.   93.  179.  135.  149.   97.  101.  110.   79.\n",
      "  111.  109.   65.   84.  367.  162.  195.  107.  119.  331.  122.  161.\n",
      "  157.  175.  177.  136.  104.  316.  127.  100.  180.  155.  133.  178.\n",
      "  176.  108.  353.  131.  130.   96.  256.  117.  146.  211.  199.  140.\n",
      "  200.  106.  285.  263.  314.  253.  163.  377.  171.  148.  191.  243.\n",
      "  153.  145.  174.  172.  190.  142.  317.  244.  189.  286.  105.  170.\n",
      "  215.  321.  113.  115.  156.  129.  242.  132.  280.  159.  138.  158.\n",
      "  267.  151.  164.  187.  206.  266.  265.  209.  196.  139.  193.  184.\n",
      "  210.  260.  366.  194.  318.  344.  277.  595.  197.  247.  165.  283.\n",
      "  326.  181.  186.  438.  222.  144.  378.  237.  152.  208.  274.  430.\n",
      "  202.  214.  231.  219.  225.  230.  198.  224.  333.  168.  221.  523.\n",
      "  254.  305.  166.  252.  445.  147.  301.  213.  536.  220.  249.  290.\n",
      "  515.  276.  241.  204.  250.  218.  226.  201.  240.  404.  348.  328.\n",
      "  228.  304.  167.  346.  205.  207.  293.  255.  307.  414.  311.  347.\n",
      "  379.  395.  229.  232.]\n",
      "ANZ_HH_TITEL -values:  [ nan   0.   1.   5.   2.   3.   7.   4.   6.   9.  15.  14.   8.  11.  10.\n",
      "  12.  13.  20.  16.  17.  23.  18.]\n",
      "GEBAEUDETYP -values:  [ nan   8.   1.   3.   2.   6.   4.   5.]\n",
      "KONSUMNAEHE -values:  [ nan   1.   5.   4.   3.   2.   6.   7.]\n",
      "MIN_GEBAEUDEJAHR -values:  [   nan  1992.  1997.  2005.  2009.  1994.  1996.  2002.  2015.  1991.\n",
      "  1993.  1995.  2003.  2014.  2008.  2006.  2000.  1990.  2004.  1999.\n",
      "  1998.  2001.  2007.  2013.  1989.  2011.  2012.  2010.  1987.  1988.\n",
      "  1985.  2016.  1986.]\n",
      "OST_WEST_KZ -values:  [nan 'W' 'O']\n",
      "WOHNLAGE -values:  [ nan   4.   2.   7.   3.   5.   1.   8.   0.]\n",
      "CAMEO_DEUG_2015 -values:  [nan '8' '4' '2' '6' '1' '9' '5' '7' '3']\n",
      "CAMEO_DEU_2015 -values:  [nan '8A' '4C' '2A' '6B' '8C' '4A' '2D' '1A' '1E' '9D' '5C' '8B' '7A' '5D'\n",
      " '9E' '9B' '1B' '3D' '4E' '4B' '3C' '5A' '7B' '9A' '6D' '6E' '2C' '7C' '9C'\n",
      " '7D' '5E' '1D' '8D' '6C' '6A' '5B' '4D' '3A' '2B' '7E' '3B' '6F' '5F' '1C']\n",
      "CAMEO_INTL_2015 -values:  [nan '51' '24' '12' '43' '54' '22' '14' '13' '15' '33' '41' '34' '55' '25'\n",
      " '23' '31' '52' '35' '45' '44' '32']\n",
      "KBA05_ANTG1 -values:  [ nan   0.   1.   4.   2.   3.]\n",
      "KBA05_ANTG2 -values:  [ nan   0.   3.   1.   4.   2.]\n",
      "KBA05_ANTG3 -values:  [ nan   0.   1.   2.   3.]\n",
      "KBA05_ANTG4 -values:  [ nan   2.   0.   1.]\n",
      "KBA05_GBZ -values:  [ nan   1.   3.   4.   5.   2.]\n",
      "BALLRAUM -values:  [ nan   6.   2.   4.   3.   7.   1.   5.]\n",
      "EWDICHTE -values:  [ nan   3.   4.   2.   5.   6.   1.]\n",
      "INNENSTADT -values:  [ nan   8.   4.   6.   1.   7.   3.   2.   5.]\n",
      "GEBAEUDETYP_RASTER -values:  [ nan   3.   4.   5.   1.   2.]\n",
      "KKK -values:  [ nan   2.   3.   4.   1.]\n",
      "MOBI_REGIO -values:  [ nan   1.   3.   4.   5.   2.   6.]\n",
      "ONLINE_AFFINITAET -values:  [  1.   3.   2.   5.   4.   0.  nan]\n",
      "REGIOTYP -values:  [ nan   3.   2.   5.   1.   7.   6.   4.]\n",
      "KBA13_ANZAHL_PKW -values:  [  nan  963.  712. ...,    2.   30.    7.]\n",
      "PLZ8_ANTG1 -values:  [ nan   2.   3.   1.   4.   0.]\n",
      "PLZ8_ANTG2 -values:  [ nan   3.   2.   4.   1.   0.]\n",
      "PLZ8_ANTG3 -values:  [ nan   2.   1.   3.   0.]\n",
      "PLZ8_ANTG4 -values:  [ nan   1.   0.   2.]\n",
      "PLZ8_BAUMAX -values:  [ nan   1.   2.   4.   5.   3.]\n",
      "PLZ8_HHZ -values:  [ nan   5.   4.   3.   2.   1.]\n",
      "PLZ8_GBZ -values:  [ nan   4.   3.   5.   2.   1.]\n",
      "ARBEIT -values:  [ nan   3.   2.   4.   1.   5.]\n",
      "ORTSGR_KLS9 -values:  [ nan   5.   3.   6.   4.   8.   2.   7.   9.   1.]\n",
      "RELAT_AB -values:  [ nan   4.   2.   3.   5.   1.]\n"
     ]
    }
   ],
   "source": [
    "# Do whatever you need to in order to ensure that the dataframe only contains\n",
    "# the columns that should be passed to the algorithm functions.\n",
    "\n",
    "for i in azdias.columns:\n",
    "    print(i,\"-values: \",azdias[i].unique())"
   ]
  },
  {
   "cell_type": "markdown",
   "metadata": {},
   "source": [
    "### Step 1.3: Create a Cleaning Function\n",
    "\n",
    "Even though you've finished cleaning up the general population demographics data, it's important to look ahead to the future and realize that you'll need to perform the same cleaning steps on the customer demographics data. In this substep, complete the function below to execute the main feature selection, encoding, and re-engineering steps you performed above. Then, when it comes to looking at the customer data in Step 3, you can just run this function on that DataFrame to get the trimmed dataset in a single step."
   ]
  },
  {
   "cell_type": "code",
   "execution_count": 41,
   "metadata": {},
   "outputs": [],
   "source": [
    "def clean_data(df,feat_info):\n",
    "    \"\"\"\n",
    "    Perform feature trimming, re-encoding, and engineering for demographics\n",
    "    data\n",
    "    \n",
    "    INPUT: Demographics DataFrame\n",
    "    OUTPUT: Trimmed and cleaned demographics DataFrame\n",
    "    \"\"\"\n",
    "   \n",
    "    \n",
    "    for indx in range(len(feat_info)):\n",
    "        missing_or_unknown = feat_info.iloc[indx]['missing_or_unknown']\n",
    "        missing_or_unknown = missing_or_unknown.strip('[')\n",
    "        missing_or_unknown = missing_or_unknown.strip(']')\n",
    "        missing_or_unknown = missing_or_unknown.split(sep=',')\n",
    "        missing_or_unknown = [int(value) if (value!='X' and value!='XX' and value!='') else value for value in missing_or_unknown]\n",
    "        if missing_or_unknown != ['']:\n",
    "            df = df.replace({feat_info.iloc[indx]['attribute']: missing_or_unknown}, np.nan)\n",
    "    \n",
    "    outliers = ['TITEL_KZ', 'AGER_TYP', 'KK_KUNDENTYP', 'KBA05_BAUMAX', 'GEBURTSJAHR', 'ALTER_HH']\n",
    "\n",
    "    df = df.drop(outliers, axis = 1)\n",
    "    \n",
    "   \n",
    "    missing_val_in_row = df.isnull().sum(axis=1)\n",
    "    df_few_missing = df[missing_val_in_row <= 20]\n",
    "    df_many_missing = df[missing_val_in_row > 20]\n",
    "    \n",
    "    \n",
    "\n",
    "    \n",
    "\n",
    "    \n",
    "    df_few_missing['OST_WEST_KZ'] = df_few_missing['OST_WEST_KZ'].map({'W':0, 'O':1})\n",
    "    \n",
    "    binary, multi_lvl, mixed = get_bmm(df)\n",
    "    \n",
    "    df_few_missing.drop(multi_lvl, inplace=True, axis=1)\n",
    "   \n",
    "    \n",
    "    # Engineer Features for mixed type and dropped unused features\n",
    "    decade_map = {1:1, 2:1, 3:2, 4:2, 5:3, 6:3, 7:3, 8:4, 9:4, 10:5, 11:5, 12:5, 13:5, 14:5, 15:6}\n",
    "    movement_map = {1:1, 2:0, 3:1, 4:0, 5:1, 6:0, 7:0, 8:1, 9:0, 10:1, 11:0, 12:1, 13:0, 14:1, 15:0}\n",
    "    df_few_missing['DECADE'] = df_few_missing['PRAEGENDE_JUGENDJAHRE'].map(decade_map)\n",
    "    df_few_missing['MOVEMENT'] = df_few_missing['PRAEGENDE_JUGENDJAHRE'].map(movement_map)\n",
    "    \n",
    "    wealth_map = {11:1, 12:1, 13:1, 14:1, 15:1, 21:2, 22:2, 23:2, 24:2, 25:2, 31:3, 32:3, 33:3, 34:3, 35:3, 41:4, 42:4,\n",
    "                  43:4, 44:4, 45:4, 51:5, 52:5, 53:5, 54:5, 55:5}\n",
    "    life_stage_map = {11:1, 12:2, 13:3, 14:4, 15:5, 21:1, 22:2, 23:3, 24:4, 25:5, 31:1, 32:2, 33:3, 34:4, 35:5, 41:1, 42:2,\n",
    "                      43:3, 44:4, 45:5, 51:1, 52:2, 53:3, 54:4, 55:5}\n",
    "    df_few_missing['WEALTH'] = df_few_missing['CAMEO_INTL_2015'].astype(float).map(wealth_map)\n",
    "    df_few_missing['LIFE_STAGE'] = df_few_missing['CAMEO_INTL_2015'].astype(float).map(life_stage_map)\n",
    "    df_few_missing['WOHNLAGE'] = df_few_missing['WOHNLAGE'].astype(int)\n",
    "    \n",
    "    df_few_missing.drop(['LP_LEBENSPHASE_FEIN', 'LP_LEBENSPHASE_GROB', 'CAMEO_INTL_2015', 'PRAEGENDE_JUGENDJAHRE'], \n",
    "              inplace=True, axis=1)\n",
    "       \n",
    "    # Return the cleaned dataframe.\n",
    "    return df_few_missing"
   ]
  },
  {
   "cell_type": "markdown",
   "metadata": {},
   "source": [
    "## Step 2: Feature Transformation\n",
    "\n",
    "### Step 2.1: Apply Feature Scaling\n",
    "\n",
    "Before we apply dimensionality reduction techniques to the data, we need to perform feature scaling so that the principal component vectors are not influenced by the natural differences in scale for features. Starting from this part of the project, you'll want to keep an eye on the [API reference page for sklearn](http://scikit-learn.org/stable/modules/classes.html) to help you navigate to all of the classes and functions that you'll need. In this substep, you'll need to check the following:\n",
    "\n",
    "- sklearn requires that data not have missing values in order for its estimators to work properly. So, before applying the scaler to your data, make sure that you've cleaned the DataFrame of the remaining missing values. This can be as simple as just removing all data points with missing data, or applying an [Imputer](https://scikit-learn.org/0.16/modules/generated/sklearn.preprocessing.Imputer.html) to replace all missing values. You might also try a more complicated procedure where you temporarily remove missing values in order to compute the scaling parameters before re-introducing those missing values and applying imputation. Think about how much missing data you have and what possible effects each approach might have on your analysis, and justify your decision in the discussion section below.\n",
    "- For the actual scaling function, a [StandardScaler](http://scikit-learn.org/stable/modules/generated/sklearn.preprocessing.StandardScaler.html) instance is suggested, scaling each feature to mean 0 and standard deviation 1.\n",
    "- For these classes, you can make use of the `.fit_transform()` method to both fit a procedure to the data as well as apply the transformation to the data at the same time. Don't forget to keep the fit sklearn objects handy, since you'll be applying them to the customer demographics data towards the end of the project."
   ]
  },
  {
   "cell_type": "code",
   "execution_count": 42,
   "metadata": {},
   "outputs": [],
   "source": [
    "# If you've not yet cleaned the dataset of all NaN values, then investigate and\n",
    "# do that now.\n",
    "\n",
    "\n",
    "\n",
    "imputer = Imputer(missing_values='NaN', strategy='most_frequent', axis=0)\n",
    "imputed_df = pd.DataFrame(imputer.fit_transform(subset1), columns = subset1.columns, index = subset1.index)\n"
   ]
  },
  {
   "cell_type": "code",
   "execution_count": 43,
   "metadata": {},
   "outputs": [],
   "source": [
    "# Apply feature scaling to the general population demographics data.\n",
    "scaler = StandardScaler()\n",
    "scaled_df=pd.DataFrame(scaler.fit_transform(imputed_df), columns = imputed_df.columns, index = imputed_df.index)\n"
   ]
  },
  {
   "cell_type": "markdown",
   "metadata": {},
   "source": [
    "### Discussion 2.1: Apply Feature Scaling\n",
    "\n",
    "(Double-click this cell and replace this text with your own text, reporting your decisions regarding feature scaling.)"
   ]
  },
  {
   "cell_type": "markdown",
   "metadata": {},
   "source": [
    "### Step 2.2: Perform Dimensionality Reduction\n",
    "\n",
    "On your scaled data, you are now ready to apply dimensionality reduction techniques.\n",
    "\n",
    "- Use sklearn's [PCA](http://scikit-learn.org/stable/modules/generated/sklearn.decomposition.PCA.html) class to apply principal component analysis on the data, thus finding the vectors of maximal variance in the data. To start, you should not set any parameters (so all components are computed) or set a number of components that is at least half the number of features (so there's enough features to see the general trend in variability).\n",
    "- Check out the ratio of variance explained by each principal component as well as the cumulative variance explained. Try plotting the cumulative or sequential values using matplotlib's [`plot()`](https://matplotlib.org/api/_as_gen/matplotlib.pyplot.plot.html) function. Based on what you find, select a value for the number of transformed features you'll retain for the clustering part of the project.\n",
    "- Once you've made a choice for the number of components to keep, make sure you re-fit a PCA instance to perform the decided-on transformation."
   ]
  },
  {
   "cell_type": "code",
   "execution_count": 44,
   "metadata": {},
   "outputs": [],
   "source": [
    "# Apply PCA to the data.\n",
    "\n",
    "from sklearn.decomposition import PCA\n",
    "pca = PCA()\n",
    "pca_azdias = pca.fit_transform(scaled_df)"
   ]
  },
  {
   "cell_type": "code",
   "execution_count": 45,
   "metadata": {
    "scrolled": true
   },
   "outputs": [
    {
     "data": {
      "image/png": "[encoded data removed]",
      "text/plain": [
       "<matplotlib.figure.Figure at 0x7fc968a549e8>"
      ]
     },
     "metadata": {
      "needs_background": "light"
     },
     "output_type": "display_data"
    }
   ],
   "source": [
    "# Investigate the variance accounted for by each principal component.\n",
    "def scree_plot(pca):\n",
    "    '''\n",
    "    Creates a scree plot associated with the principal components \n",
    "    \n",
    "    INPUT: pca - the result of instantian of PCA in scikit learn\n",
    "            \n",
    "    OUTPUT:\n",
    "            None\n",
    "    '''\n",
    "    num_components = len(pca.explained_variance_ratio_)\n",
    "    ind = np.arange(num_components)\n",
    "    vals = pca.explained_variance_ratio_\n",
    " \n",
    "    plt.figure(figsize=(15, 10))\n",
    "    ax = plt.subplot(111)\n",
    "    cumvals = np.cumsum(vals)\n",
    "    ax.bar(ind, vals)\n",
    "    ax.plot(ind, cumvals)\n",
    "    for i in range(num_components):\n",
    "        ax.annotate(r\"%s%%\" % ((str(vals[i]*100)[:4])), (ind[i]+0.2, vals[i]), va=\"bottom\", ha=\"center\", fontsize=12)\n",
    " \n",
    "    ax.xaxis.set_tick_params(width=0)\n",
    "    ax.yaxis.set_tick_params(width=2, length=12)\n",
    " \n",
    "    ax.set_xlabel(\"Principal Component\")\n",
    "    ax.set_ylabel(\"Variance Explained (%)\")\n",
    "    plt.title('Explained Variance Per Principal Component')\n",
    "    \n",
    "\n",
    "scree_plot(pca)\n"
   ]
  },
  {
   "cell_type": "code",
   "execution_count": 46,
   "metadata": {},
   "outputs": [
    {
     "data": {
      "text/plain": [
       "(891221, 79)"
      ]
     },
     "execution_count": 46,
     "metadata": {},
     "output_type": "execute_result"
    }
   ],
   "source": [
    "azdias.shape"
   ]
  },
  {
   "cell_type": "code",
   "execution_count": 47,
   "metadata": {},
   "outputs": [
    {
     "data": {
      "text/plain": [
       "1.0"
      ]
     },
     "execution_count": 47,
     "metadata": {},
     "output_type": "execute_result"
    }
   ],
   "source": [
    "# Re-apply PCA to the data while selecting for number of components to retain.\n",
    "\n",
    "pca.explained_variance_ratio_[:].sum()\n"
   ]
  },
  {
   "cell_type": "code",
   "execution_count": 48,
   "metadata": {},
   "outputs": [
    {
     "data": {
      "image/png": "[encoded data removed]",
      "text/plain": [
       "<matplotlib.figure.Figure at 0x7fc971ee9908>"
      ]
     },
     "metadata": {
      "needs_background": "light"
     },
     "output_type": "display_data"
    }
   ],
   "source": [
    "pca = PCA(n_components=50)\n",
    "pca_df = pca.fit_transform(scaled_df)\n",
    "scree_plot(pca)"
   ]
  },
  {
   "cell_type": "code",
   "execution_count": 49,
   "metadata": {},
   "outputs": [
    {
     "data": {
      "text/plain": [
       "0.96869056581651658"
      ]
     },
     "execution_count": 49,
     "metadata": {},
     "output_type": "execute_result"
    }
   ],
   "source": [
    "pca.explained_variance_ratio_[:50].sum()\n"
   ]
  },
  {
   "cell_type": "markdown",
   "metadata": {},
   "source": [
    "### Discussion 2.2: Perform Dimensionality Reduction\n",
    "\n",
    "(Double-click this cell and replace this text with your own text, reporting your findings and decisions regarding dimensionality reduction. How many principal components / transformed features are you retaining for the next step of the analysis?)\n",
    "\n",
    "i graphed two versions of pca , one with all the components of 70 and the second one i reduced the number of components to 50\n",
    "we can notice slight change in the variance of 0.968 which is still high variance ratio"
   ]
  },
  {
   "cell_type": "markdown",
   "metadata": {},
   "source": [
    "### Step 2.3: Interpret Principal Components\n",
    "\n",
    "Now that we have our transformed principal components, it's a nice idea to check out the weight of each variable on the first few components to see if they can be interpreted in some fashion.\n",
    "\n",
    "As a reminder, each principal component is a unit vector that points in the direction of highest variance (after accounting for the variance captured by earlier principal components). The further a weight is from zero, the more the principal component is in the direction of the corresponding feature. If two features have large weights of the same sign (both positive or both negative), then increases in one tend expect to be associated with increases in the other. To contrast, features with different signs can be expected to show a negative correlation: increases in one variable should result in a decrease in the other.\n",
    "\n",
    "- To investigate the features, you should map each weight to their corresponding feature name, then sort the features according to weight. The most interesting features for each principal component, then, will be those at the beginning and end of the sorted list. Use the data dictionary document to help you understand these most prominent features, their relationships, and what a positive or negative value on the principal component might indicate.\n",
    "- You should investigate and interpret feature associations from the first three principal components in this substep. To help facilitate this, you should write a function that you can call at any time to print the sorted list of feature weights, for the *i*-th principal component. This might come in handy in the next step of the project, when you interpret the tendencies of the discovered clusters."
   ]
  },
  {
   "cell_type": "code",
   "execution_count": 50,
   "metadata": {},
   "outputs": [],
   "source": [
    "# Map weights for the first principal component to corresponding feature names\n",
    "# and then print the linked values, sorted by weight.\n",
    "# HINT: Try defining a function here or in a new cell that you can reuse in the\n",
    "# other cells.\n",
    "def map_weight(df, component):\n",
    "    pca_df = pd.DataFrame(pca.components_, columns=list(df.columns))\n",
    "    pca_component = pd.DataFrame(pca_df.iloc[component])\n",
    "    print(pca_component.sort_values(component, ascending=False))\n",
    "\n"
   ]
  },
  {
   "cell_type": "code",
   "execution_count": 51,
   "metadata": {},
   "outputs": [
    {
     "name": "stdout",
     "output_type": "stream",
     "text": [
      "                              0\n",
      "PLZ8_ANTG3             0.229391\n",
      "PLZ8_ANTG4             0.222745\n",
      "PLZ8_BAUMAX            0.219496\n",
      "ORTSGR_KLS9            0.203107\n",
      "WEALTH                 0.202163\n",
      "EWDICHTE               0.200288\n",
      "HH_EINKOMMEN_SCORE     0.195639\n",
      "FINANZ_HAUSBAUER       0.160962\n",
      "PLZ8_ANTG2             0.155656\n",
      "KBA05_ANTG4            0.154865\n",
      "ARBEIT                 0.144811\n",
      "RELAT_AB               0.137088\n",
      "ANZ_HAUSHALTE_AKTIV    0.136210\n",
      "KBA05_ANTG3            0.134474\n",
      "FINANZ_SPARER          0.128447\n",
      "MOVEMENT               0.101436\n",
      "SEMIO_PFLICHT          0.098535\n",
      "SEMIO_REL              0.095812\n",
      "DECADE                 0.089079\n",
      "SEMIO_RAT              0.080829\n",
      "SEMIO_TRADV            0.072548\n",
      "SEMIO_MAT              0.067784\n",
      "SEMIO_FAM              0.067281\n",
      "FINANZ_UNAUFFAELLIGER  0.060205\n",
      "SEMIO_KULT             0.059119\n",
      "REGIOTYP               0.056319\n",
      "FINANZ_ANLEGER         0.052715\n",
      "W_KEIT_KIND_HH         0.043149\n",
      "SEMIO_KAEM             0.043129\n",
      "PLZ8_HHZ               0.043093\n",
      "...                         ...\n",
      "KBA05_ANTG2            0.011727\n",
      "ANREDE_KZ              0.009512\n",
      "SEMIO_KRIT             0.008650\n",
      "SOHO_KZ               -0.002025\n",
      "ANZ_TITEL             -0.002912\n",
      "RETOURTYP_BK_S        -0.007785\n",
      "SEMIO_VERT            -0.039889\n",
      "MIN_GEBAEUDEJAHR      -0.046445\n",
      "ONLINE_AFFINITAET     -0.050576\n",
      "WOHNDAUER_2008        -0.053855\n",
      "OST_WEST_KZ           -0.055027\n",
      "SEMIO_LUST            -0.059427\n",
      "SEMIO_ERL             -0.062599\n",
      "KBA13_ANZAHL_PKW      -0.077106\n",
      "ANZ_PERSONEN          -0.078326\n",
      "WOHNLAGE              -0.088582\n",
      "FINANZ_VORSORGER      -0.097944\n",
      "ALTERSKATEGORIE_GROB  -0.101022\n",
      "GREEN_AVANTGARDE      -0.101436\n",
      "GEBAEUDETYP_RASTER    -0.119619\n",
      "LIFE_STAGE            -0.120712\n",
      "BALLRAUM              -0.130937\n",
      "INNENSTADT            -0.169008\n",
      "KONSUMNAEHE           -0.170617\n",
      "PLZ8_GBZ              -0.170701\n",
      "FINANZ_MINIMALIST     -0.207083\n",
      "KBA05_ANTG1           -0.210979\n",
      "KBA05_GBZ             -0.214693\n",
      "MOBI_REGIO            -0.222202\n",
      "PLZ8_ANTG1            -0.229420\n",
      "\n",
      "[66 rows x 1 columns]\n"
     ]
    }
   ],
   "source": [
    "map_weight(subset1,0)"
   ]
  },
  {
   "cell_type": "code",
   "execution_count": 52,
   "metadata": {},
   "outputs": [
    {
     "name": "stdout",
     "output_type": "stream",
     "text": [
      "                              1\n",
      "ALTERSKATEGORIE_GROB   0.267029\n",
      "FINANZ_VORSORGER       0.239896\n",
      "SEMIO_ERL              0.233782\n",
      "SEMIO_LUST             0.186926\n",
      "RETOURTYP_BK_S         0.163360\n",
      "SEMIO_KRIT             0.113529\n",
      "W_KEIT_KIND_HH         0.109702\n",
      "SEMIO_KAEM             0.108545\n",
      "FINANZ_HAUSBAUER       0.102706\n",
      "ANREDE_KZ              0.087904\n",
      "FINANZ_MINIMALIST      0.084068\n",
      "EWDICHTE               0.080759\n",
      "ORTSGR_KLS9            0.079790\n",
      "PLZ8_ANTG3             0.076969\n",
      "PLZ8_ANTG4             0.076104\n",
      "PLZ8_BAUMAX            0.071031\n",
      "SEMIO_DOM              0.069702\n",
      "WOHNDAUER_2008         0.064622\n",
      "KBA05_ANTG4            0.058795\n",
      "ARBEIT                 0.058004\n",
      "WEALTH                 0.056510\n",
      "RELAT_AB               0.056265\n",
      "PLZ8_ANTG2             0.053393\n",
      "ANZ_HAUSHALTE_AKTIV    0.051685\n",
      "HH_EINKOMMEN_SCORE     0.037719\n",
      "KBA05_ANTG3            0.035347\n",
      "VERS_TYP               0.028700\n",
      "ANZ_HH_TITEL           0.028577\n",
      "PLZ8_HHZ               0.012352\n",
      "LIFE_STAGE             0.011983\n",
      "...                         ...\n",
      "KKK                   -0.006052\n",
      "OST_WEST_KZ           -0.021728\n",
      "KBA13_ANZAHL_PKW      -0.031193\n",
      "GEBAEUDETYP_RASTER    -0.036182\n",
      "MIN_GEBAEUDEJAHR      -0.044666\n",
      "KBA05_ANTG1           -0.050793\n",
      "WOHNLAGE              -0.050840\n",
      "BALLRAUM              -0.053488\n",
      "ANZ_PERSONEN          -0.054506\n",
      "MOBI_REGIO            -0.056624\n",
      "KONSUMNAEHE           -0.059047\n",
      "PLZ8_GBZ              -0.059309\n",
      "HEALTH_TYP            -0.060877\n",
      "SEMIO_VERT            -0.064413\n",
      "INNENSTADT            -0.064849\n",
      "KBA05_GBZ             -0.068944\n",
      "PLZ8_ANTG1            -0.074418\n",
      "SEMIO_SOZ             -0.103739\n",
      "ONLINE_AFFINITAET     -0.158469\n",
      "SEMIO_MAT             -0.168005\n",
      "SEMIO_RAT             -0.177372\n",
      "SEMIO_FAM             -0.188366\n",
      "FINANZ_ANLEGER        -0.211636\n",
      "SEMIO_KULT            -0.223106\n",
      "FINANZ_UNAUFFAELLIGER -0.231985\n",
      "SEMIO_TRADV           -0.235994\n",
      "SEMIO_PFLICHT         -0.236386\n",
      "FINANZ_SPARER         -0.246201\n",
      "DECADE                -0.248543\n",
      "SEMIO_REL             -0.262662\n",
      "\n",
      "[66 rows x 1 columns]\n"
     ]
    }
   ],
   "source": [
    "# Map weights for the second principal component to corresponding feature names\n",
    "# and then print the linked values, sorted by weight.\n",
    "\n",
    "map_weight(subset1,1)"
   ]
  },
  {
   "cell_type": "code",
   "execution_count": 53,
   "metadata": {},
   "outputs": [
    {
     "name": "stdout",
     "output_type": "stream",
     "text": [
      "                              2\n",
      "SEMIO_VERT             0.346328\n",
      "SEMIO_SOZ              0.262226\n",
      "SEMIO_FAM              0.249280\n",
      "SEMIO_KULT             0.235091\n",
      "FINANZ_MINIMALIST      0.160215\n",
      "RETOURTYP_BK_S         0.106084\n",
      "FINANZ_VORSORGER       0.100057\n",
      "W_KEIT_KIND_HH         0.080546\n",
      "ALTERSKATEGORIE_GROB   0.077837\n",
      "SEMIO_REL              0.069001\n",
      "SEMIO_LUST             0.063229\n",
      "SEMIO_MAT              0.056198\n",
      "GREEN_AVANTGARDE       0.054458\n",
      "ORTSGR_KLS9            0.046077\n",
      "PLZ8_BAUMAX            0.045921\n",
      "EWDICHTE               0.044957\n",
      "PLZ8_ANTG4             0.043581\n",
      "PLZ8_ANTG3             0.042075\n",
      "WOHNDAUER_2008         0.033346\n",
      "ARBEIT                 0.032751\n",
      "RELAT_AB               0.030095\n",
      "PLZ8_ANTG2             0.028113\n",
      "KBA05_ANTG4            0.024000\n",
      "WEALTH                 0.021569\n",
      "ANZ_HAUSHALTE_AKTIV    0.021250\n",
      "ANZ_HH_TITEL           0.012536\n",
      "ANZ_TITEL              0.010085\n",
      "KBA05_ANTG3            0.006058\n",
      "PLZ8_HHZ               0.004818\n",
      "VERS_TYP               0.000383\n",
      "...                         ...\n",
      "OST_WEST_KZ           -0.014239\n",
      "MIN_GEBAEUDEJAHR      -0.016152\n",
      "MOBI_REGIO            -0.018115\n",
      "KKK                   -0.019084\n",
      "KBA05_GBZ             -0.020340\n",
      "KBA13_ANZAHL_PKW      -0.021972\n",
      "WOHNLAGE              -0.022703\n",
      "HH_EINKOMMEN_SCORE    -0.026047\n",
      "GEBAEUDETYP_RASTER    -0.029127\n",
      "HEALTH_TYP            -0.033809\n",
      "BALLRAUM              -0.034395\n",
      "KONSUMNAEHE           -0.035921\n",
      "PLZ8_GBZ              -0.035955\n",
      "INNENSTADT            -0.041831\n",
      "PLZ8_ANTG1            -0.042794\n",
      "FINANZ_HAUSBAUER      -0.047725\n",
      "ONLINE_AFFINITAET     -0.049590\n",
      "MOVEMENT              -0.054458\n",
      "SEMIO_TRADV           -0.077051\n",
      "SEMIO_PFLICHT         -0.079029\n",
      "FINANZ_UNAUFFAELLIGER -0.098260\n",
      "FINANZ_SPARER         -0.106919\n",
      "DECADE                -0.109720\n",
      "SEMIO_ERL             -0.177140\n",
      "FINANZ_ANLEGER        -0.189956\n",
      "SEMIO_RAT             -0.216438\n",
      "SEMIO_KRIT            -0.276771\n",
      "SEMIO_DOM             -0.312962\n",
      "SEMIO_KAEM            -0.336850\n",
      "ANREDE_KZ             -0.368173\n",
      "\n",
      "[66 rows x 1 columns]\n"
     ]
    }
   ],
   "source": [
    "# Map weights for the third principal component to corresponding feature names\n",
    "# and then print the linked values, sorted by weight.\n",
    "map_weight(subset1,2)\n",
    "\n"
   ]
  },
  {
   "cell_type": "markdown",
   "metadata": {},
   "source": [
    "### Discussion 2.3: Interpret Principal Components\n",
    "\n",
    "(Double-click this cell and replace this text with your own text, reporting your observations from detailed investigation of the first few principal components generated. Can we interpret positive and negative values from them in a meaningful way?)\n",
    "\n",
    "\n",
    "first  Principal comopnent important features:\n",
    "\n",
    "some of the positive features are :\n",
    "\n",
    "PLZ8_ANTG3             0.229391\n",
    "PLZ8_ANTG4             0.222745\n",
    "PLZ8_BAUMAX            0.219496\n",
    "\n",
    "\n",
    "\n",
    "\n",
    "second Principal comopnent important features:\n",
    "\n",
    "some of the positive features are :\n",
    "ALTERSKATEGORIE_GROB   0.267029\n",
    "FINANZ_VORSORGER       0.239896\n",
    "SEMIO_ERL              0.233782\n",
    "\n",
    "\n",
    "third Principal comopnent important features:\n",
    "\n",
    "some of the positive features are :\n",
    "SEMIO_VERT             0.346328\n",
    "SEMIO_SOZ              0.262226\n",
    "SEMIO_FAM              0.249280\n",
    "SEMIO_KULT             0.235091\n",
    "\n",
    "--------------------------------------------------\n",
    "\n",
    "first Principal component Top neagtive features:\n",
    "\n",
    "KBA05_GBZ             -0.214693\n",
    "MOBI_REGIO            -0.222202\n",
    "PLZ8_ANTG1            -0.229420\n",
    "\n",
    "\n",
    "\n",
    "second Principal component Top neagtive features:\n",
    "\n",
    "FINANZ_SPARER         -0.246201\n",
    "DECADE                -0.248543\n",
    "SEMIO_REL             -0.262662\n",
    "\n",
    "third Principal component Top neagtive features:\n",
    "\n",
    "SEMIO_DOM             -0.312962\n",
    "SEMIO_KAEM            -0.336850\n",
    "ANREDE_KZ             -0.368173\n"
   ]
  },
  {
   "cell_type": "markdown",
   "metadata": {},
   "source": [
    "## Step 3: Clustering\n",
    "\n",
    "### Step 3.1: Apply Clustering to General Population\n",
    "\n",
    "You've assessed and cleaned the demographics data, then scaled and transformed them. Now, it's time to see how the data clusters in the principal components space. In this substep, you will apply k-means clustering to the dataset and use the average within-cluster distances from each point to their assigned cluster's centroid to decide on a number of clusters to keep.\n",
    "\n",
    "- Use sklearn's [KMeans](http://scikit-learn.org/stable/modules/generated/sklearn.cluster.KMeans.html#sklearn.cluster.KMeans) class to perform k-means clustering on the PCA-transformed data.\n",
    "- Then, compute the average difference from each point to its assigned cluster's center. **Hint**: The KMeans object's `.score()` method might be useful here, but note that in sklearn, scores tend to be defined so that larger is better. Try applying it to a small, toy dataset, or use an internet search to help your understanding.\n",
    "- Perform the above two steps for a number of different cluster counts. You can then see how the average distance decreases with an increasing number of clusters. However, each additional cluster provides a smaller net benefit. Use this fact to select a final number of clusters in which to group the data. **Warning**: because of the large size of the dataset, it can take a long time for the algorithm to resolve. The more clusters to fit, the longer the algorithm will take. You should test for cluster counts through at least 10 clusters to get the full picture, but you shouldn't need to test for a number of clusters above about 30.\n",
    "- Once you've selected a final number of clusters to use, re-fit a KMeans instance to perform the clustering operation. Make sure that you also obtain the cluster assignments for the general demographics data, since you'll be using them in the final Step 3.3."
   ]
  },
  {
   "cell_type": "code",
   "execution_count": 54,
   "metadata": {},
   "outputs": [
    {
     "name": "stdout",
     "output_type": "stream",
     "text": [
      "For n_clusters=2, avg distance in cluster is 57.63996770786344\n",
      "For n_clusters=4, avg distance in cluster is 50.882295202057115\n",
      "For n_clusters=6, avg distance in cluster is 47.43145629496798\n",
      "For n_clusters=8, avg distance in cluster is 44.91158293403713\n",
      "For n_clusters=10, avg distance in cluster is 43.158221251767074\n",
      "For n_clusters=12, avg distance in cluster is 41.97266590127268\n",
      "For n_clusters=14, avg distance in cluster is 40.88890729239473\n",
      "For n_clusters=16, avg distance in cluster is 39.94571380147231\n",
      "For n_clusters=18, avg distance in cluster is 39.43332401862493\n",
      "For n_clusters=20, avg distance in cluster is 38.19161056974714\n"
     ]
    }
   ],
   "source": [
    "# Over a number of different cluster counts...\n",
    "\n",
    "\n",
    "    # run k-means clustering on the data and...\n",
    "    \n",
    "    \n",
    "    # compute the average within-cluster distances.\n",
    "    \n",
    "from sklearn.cluster import KMeans\n",
    "\n",
    "average=[]\n",
    "for i in range(21):\n",
    "   \n",
    "    if(i%2==0 and i!=0):\n",
    "        kmeans= KMeans(n_clusters=i).fit(pca_azdias)\n",
    "    \n",
    "        score= np.abs(kmeans.score(pca_azdias))\n",
    "        print(\"For n_clusters={}, avg distance in cluster is {}\".format(i, score/pca_azdias.shape[0]))\n",
    "        average.append(score/pca_azdias.shape[0])\n",
    "    "
   ]
  },
  {
   "cell_type": "code",
   "execution_count": 55,
   "metadata": {},
   "outputs": [
    {
     "data": {
      "text/plain": [
       "<matplotlib.axes._subplots.AxesSubplot at 0x7fc971f9e908>"
      ]
     },
     "execution_count": 55,
     "metadata": {},
     "output_type": "execute_result"
    },
    {
     "data": {
      "image/png": "[encoded data removed]",
      "text/plain": [
       "<matplotlib.figure.Figure at 0x7fc971ff7c88>"
      ]
     },
     "metadata": {
      "needs_background": "light"
     },
     "output_type": "display_data"
    }
   ],
   "source": [
    "# Investigate the change in within-cluster distance across number of clusters.\n",
    "# HINT: Use matplotlib's plot function to visualize this relationship.\n",
    "\n",
    "\n",
    "n=[i for i in range(21) if i%2==0 and i!=0]\n",
    "cluster_dist= pd.DataFrame(list(zip(average,n)))\n",
    "cluster_dist.set_axis(['Average_Dist','Clusters'], axis=1, inplace=True)\n",
    "cluster_dist.plot(x='Clusters', y='Average_Dist')\n"
   ]
  },
  {
   "cell_type": "code",
   "execution_count": 56,
   "metadata": {},
   "outputs": [],
   "source": [
    "# Re-fit the k-means model with the selected number of clusters and obtain\n",
    "# cluster predictions for the general population demographics data.\n",
    "\n",
    "kmeans= KMeans(n_clusters=20).fit(pca_azdias)\n",
    "azdias_predict=kmeans.predict(pca_azdias)"
   ]
  },
  {
   "cell_type": "code",
   "execution_count": 57,
   "metadata": {},
   "outputs": [
    {
     "name": "stdout",
     "output_type": "stream",
     "text": [
      "[19  8  2 ...,  7  0 14]\n"
     ]
    }
   ],
   "source": [
    "print(azdias_predict)"
   ]
  },
  {
   "cell_type": "markdown",
   "metadata": {},
   "source": [
    "### Discussion 3.1: Apply Clustering to General Population\n",
    "\n",
    "adding more cluster numbers could have been given better decision on selecting cluster number but since it will longer time i fitted for few cluster numbers and calculated the average distance given that theres no apparent conclusion on the most optimal number of clusters to be chosen from the plot  (Using the elbow method ) i decided to choose cluster number with the least average distance which is 20"
   ]
  },
  {
   "cell_type": "markdown",
   "metadata": {},
   "source": [
    "### Step 3.2: Apply All Steps to the Customer Data\n",
    "\n",
    "Now that you have clusters and cluster centers for the general population, it's time to see how the customer data maps on to those clusters. Take care to not confuse this for re-fitting all of the models to the customer data. Instead, you're going to use the fits from the general population to clean, transform, and cluster the customer data. In the last step of the project, you will interpret how the general population fits apply to the customer data.\n",
    "\n",
    "- Don't forget when loading in the customers data, that it is semicolon (`;`) delimited.\n",
    "- Apply the same feature wrangling, selection, and engineering steps to the customer demographics using the `clean_data()` function you created earlier. (You can assume that the customer demographics data has similar meaning behind missing data patterns as the general demographics data.)\n",
    "- Use the sklearn objects from the general demographics data, and apply their transformations to the customers data. That is, you should not be using a `.fit()` or `.fit_transform()` method to re-fit the old objects, nor should you be creating new sklearn objects! Carry the data through the feature scaling, PCA, and clustering steps, obtaining cluster assignments for all of the data in the customer demographics data."
   ]
  },
  {
   "cell_type": "code",
   "execution_count": 58,
   "metadata": {
    "scrolled": true
   },
   "outputs": [],
   "source": [
    "# Load in the customer demographics data.\n",
    "customers = pd.read_csv('Udacity_CUSTOMERS_Subset.csv',delimiter=';')"
   ]
  },
  {
   "cell_type": "code",
   "execution_count": 59,
   "metadata": {},
   "outputs": [
    {
     "name": "stderr",
     "output_type": "stream",
     "text": [
      "/opt/conda/lib/python3.6/site-packages/ipykernel_launcher.py:34: SettingWithCopyWarning: \n",
      "A value is trying to be set on a copy of a slice from a DataFrame.\n",
      "Try using .loc[row_indexer,col_indexer] = value instead\n",
      "\n",
      "See the caveats in the documentation: http://pandas.pydata.org/pandas-docs/stable/indexing.html#indexing-view-versus-copy\n",
      "/opt/conda/lib/python3.6/site-packages/pandas/core/frame.py:3697: SettingWithCopyWarning: \n",
      "A value is trying to be set on a copy of a slice from a DataFrame\n",
      "\n",
      "See the caveats in the documentation: http://pandas.pydata.org/pandas-docs/stable/indexing.html#indexing-view-versus-copy\n",
      "  errors=errors)\n",
      "/opt/conda/lib/python3.6/site-packages/ipykernel_launcher.py:44: SettingWithCopyWarning: \n",
      "A value is trying to be set on a copy of a slice from a DataFrame.\n",
      "Try using .loc[row_indexer,col_indexer] = value instead\n",
      "\n",
      "See the caveats in the documentation: http://pandas.pydata.org/pandas-docs/stable/indexing.html#indexing-view-versus-copy\n",
      "/opt/conda/lib/python3.6/site-packages/ipykernel_launcher.py:45: SettingWithCopyWarning: \n",
      "A value is trying to be set on a copy of a slice from a DataFrame.\n",
      "Try using .loc[row_indexer,col_indexer] = value instead\n",
      "\n",
      "See the caveats in the documentation: http://pandas.pydata.org/pandas-docs/stable/indexing.html#indexing-view-versus-copy\n",
      "/opt/conda/lib/python3.6/site-packages/ipykernel_launcher.py:51: SettingWithCopyWarning: \n",
      "A value is trying to be set on a copy of a slice from a DataFrame.\n",
      "Try using .loc[row_indexer,col_indexer] = value instead\n",
      "\n",
      "See the caveats in the documentation: http://pandas.pydata.org/pandas-docs/stable/indexing.html#indexing-view-versus-copy\n",
      "/opt/conda/lib/python3.6/site-packages/ipykernel_launcher.py:52: SettingWithCopyWarning: \n",
      "A value is trying to be set on a copy of a slice from a DataFrame.\n",
      "Try using .loc[row_indexer,col_indexer] = value instead\n",
      "\n",
      "See the caveats in the documentation: http://pandas.pydata.org/pandas-docs/stable/indexing.html#indexing-view-versus-copy\n",
      "/opt/conda/lib/python3.6/site-packages/ipykernel_launcher.py:53: SettingWithCopyWarning: \n",
      "A value is trying to be set on a copy of a slice from a DataFrame.\n",
      "Try using .loc[row_indexer,col_indexer] = value instead\n",
      "\n",
      "See the caveats in the documentation: http://pandas.pydata.org/pandas-docs/stable/indexing.html#indexing-view-versus-copy\n"
     ]
    }
   ],
   "source": [
    "customerss_cleand=clean_data(customers,feat_info)\n"
   ]
  },
  {
   "cell_type": "code",
   "execution_count": 60,
   "metadata": {},
   "outputs": [
    {
     "ename": "ValueError",
     "evalue": "Incorrect number of features. Got 50 features, expected 66",
     "output_type": "error",
     "traceback": [
      "\u001b[0;31m---------------------------------------------------------------------------\u001b[0m",
      "\u001b[0;31mValueError\u001b[0m                                Traceback (most recent call last)",
      "\u001b[0;32m<ipython-input-60-6926958c6933>\u001b[0m in \u001b[0;36m<module>\u001b[0;34m()\u001b[0m\n\u001b[1;32m     11\u001b[0m \u001b[0mcustomers_pca\u001b[0m\u001b[0;34m=\u001b[0m\u001b[0mpca\u001b[0m\u001b[0;34m.\u001b[0m\u001b[0mtransform\u001b[0m\u001b[0;34m(\u001b[0m\u001b[0mcustomer_scale_df\u001b[0m\u001b[0;34m)\u001b[0m\u001b[0;34m\u001b[0m\u001b[0m\n\u001b[1;32m     12\u001b[0m \u001b[0;34m\u001b[0m\u001b[0m\n\u001b[0;32m---> 13\u001b[0;31m \u001b[0mcustomers_predict\u001b[0m\u001b[0;34m=\u001b[0m \u001b[0mkmeans\u001b[0m\u001b[0;34m.\u001b[0m\u001b[0mpredict\u001b[0m\u001b[0;34m(\u001b[0m\u001b[0mcustomers_pca\u001b[0m\u001b[0;34m)\u001b[0m\u001b[0;34m\u001b[0m\u001b[0m\n\u001b[0m",
      "\u001b[0;32m/opt/conda/lib/python3.6/site-packages/sklearn/cluster/k_means_.py\u001b[0m in \u001b[0;36mpredict\u001b[0;34m(self, X)\u001b[0m\n\u001b[1;32m    986\u001b[0m         \u001b[0mcheck_is_fitted\u001b[0m\u001b[0;34m(\u001b[0m\u001b[0mself\u001b[0m\u001b[0;34m,\u001b[0m \u001b[0;34m'cluster_centers_'\u001b[0m\u001b[0;34m)\u001b[0m\u001b[0;34m\u001b[0m\u001b[0m\n\u001b[1;32m    987\u001b[0m \u001b[0;34m\u001b[0m\u001b[0m\n\u001b[0;32m--> 988\u001b[0;31m         \u001b[0mX\u001b[0m \u001b[0;34m=\u001b[0m \u001b[0mself\u001b[0m\u001b[0;34m.\u001b[0m\u001b[0m_check_test_data\u001b[0m\u001b[0;34m(\u001b[0m\u001b[0mX\u001b[0m\u001b[0;34m)\u001b[0m\u001b[0;34m\u001b[0m\u001b[0m\n\u001b[0m\u001b[1;32m    989\u001b[0m         \u001b[0mx_squared_norms\u001b[0m \u001b[0;34m=\u001b[0m \u001b[0mrow_norms\u001b[0m\u001b[0;34m(\u001b[0m\u001b[0mX\u001b[0m\u001b[0;34m,\u001b[0m \u001b[0msquared\u001b[0m\u001b[0;34m=\u001b[0m\u001b[0;32mTrue\u001b[0m\u001b[0;34m)\u001b[0m\u001b[0;34m\u001b[0m\u001b[0m\n\u001b[1;32m    990\u001b[0m         \u001b[0;32mreturn\u001b[0m \u001b[0m_labels_inertia\u001b[0m\u001b[0;34m(\u001b[0m\u001b[0mX\u001b[0m\u001b[0;34m,\u001b[0m \u001b[0mx_squared_norms\u001b[0m\u001b[0;34m,\u001b[0m \u001b[0mself\u001b[0m\u001b[0;34m.\u001b[0m\u001b[0mcluster_centers_\u001b[0m\u001b[0;34m)\u001b[0m\u001b[0;34m[\u001b[0m\u001b[0;36m0\u001b[0m\u001b[0;34m]\u001b[0m\u001b[0;34m\u001b[0m\u001b[0m\n",
      "\u001b[0;32m/opt/conda/lib/python3.6/site-packages/sklearn/cluster/k_means_.py\u001b[0m in \u001b[0;36m_check_test_data\u001b[0;34m(self, X)\u001b[0m\n\u001b[1;32m    869\u001b[0m             raise ValueError(\"Incorrect number of features. \"\n\u001b[1;32m    870\u001b[0m                              \"Got %d features, expected %d\" % (\n\u001b[0;32m--> 871\u001b[0;31m                                  n_features, expected_n_features))\n\u001b[0m\u001b[1;32m    872\u001b[0m \u001b[0;34m\u001b[0m\u001b[0m\n\u001b[1;32m    873\u001b[0m         \u001b[0;32mreturn\u001b[0m \u001b[0mX\u001b[0m\u001b[0;34m\u001b[0m\u001b[0m\n",
      "\u001b[0;31mValueError\u001b[0m: Incorrect number of features. Got 50 features, expected 66"
     ]
    }
   ],
   "source": [
    "# Apply preprocessing, feature transformation, and clustering from the general\n",
    "# demographics onto the customer data, obtaining cluster predictions for the\n",
    "# customer demographics data.\n",
    "\n",
    "customers_imputer= imputer.transform(customerss_cleand)\n",
    "customers_imputer_df= pd.DataFrame(customers_imputer, columns=customerss_cleand.columns)\n",
    "\n",
    "customers_scale= scaler.transform(customers_imputer)\n",
    "customer_scale_df= pd.DataFrame(customers_scale, columns=customerss_cleand.columns)\n",
    "\n",
    "customers_pca=pca.transform(customer_scale_df)\n",
    "\n",
    "customers_predict= kmeans.predict(customers_pca)"
   ]
  },
  {
   "cell_type": "markdown",
   "metadata": {},
   "source": [
    "### Step 3.3: Compare Customer Data to Demographics Data\n",
    "\n",
    "At this point, you have clustered data based on demographics of the general population of Germany, and seen how the customer data for a mail-order sales company maps onto those demographic clusters. In this final substep, you will compare the two cluster distributions to see where the strongest customer base for the company is.\n",
    "\n",
    "Consider the proportion of persons in each cluster for the general population, and the proportions for the customers. If we think the company's customer base to be universal, then the cluster assignment proportions should be fairly similar between the two. If there are only particular segments of the population that are interested in the company's products, then we should see a mismatch from one to the other. If there is a higher proportion of persons in a cluster for the customer data compared to the general population (e.g. 5% of persons are assigned to a cluster for the general population, but 15% of the customer data is closest to that cluster's centroid) then that suggests the people in that cluster to be a target audience for the company. On the other hand, the proportion of the data in a cluster being larger in the general population than the customer data (e.g. only 2% of customers closest to a population centroid that captures 6% of the data) suggests that group of persons to be outside of the target demographics.\n",
    "\n",
    "Take a look at the following points in this step:\n",
    "\n",
    "- Compute the proportion of data points in each cluster for the general population and the customer data. Visualizations will be useful here: both for the individual dataset proportions, but also to visualize the ratios in cluster representation between groups. Seaborn's [`countplot()`](https://seaborn.pydata.org/generated/seaborn.countplot.html) or [`barplot()`](https://seaborn.pydata.org/generated/seaborn.barplot.html) function could be handy.\n",
    "  - Recall the analysis you performed in step 1.1.3 of the project, where you separated out certain data points from the dataset if they had more than a specified threshold of missing values. If you found that this group was qualitatively different from the main bulk of the data, you should treat this as an additional data cluster in this analysis. Make sure that you account for the number of data points in this subset, for both the general population and customer datasets, when making your computations!\n",
    "- Which cluster or clusters are overrepresented in the customer dataset compared to the general population? Select at least one such cluster and infer what kind of people might be represented by that cluster. Use the principal component interpretations from step 2.3 or look at additional components to help you make this inference. Alternatively, you can use the `.inverse_transform()` method of the PCA and StandardScaler objects to transform centroids back to the original data space and interpret the retrieved values directly.\n",
    "- Perform a similar investigation for the underrepresented clusters. Which cluster or clusters are underrepresented in the customer dataset compared to the general population, and what kinds of people are typified by these clusters?"
   ]
  },
  {
   "cell_type": "code",
   "execution_count": null,
   "metadata": {},
   "outputs": [],
   "source": [
    "# Compare the proportion of data in each cluster for the customer data to the\n",
    "# proportion of data in each cluster for the general population.\n",
    "\n"
   ]
  },
  {
   "cell_type": "code",
   "execution_count": null,
   "metadata": {},
   "outputs": [],
   "source": [
    "# What kinds of people are part of a cluster that is overrepresented in the\n",
    "# customer data compared to the general population?\n",
    "\n"
   ]
  },
  {
   "cell_type": "code",
   "execution_count": null,
   "metadata": {},
   "outputs": [],
   "source": [
    "# What kinds of people are part of a cluster that is underrepresented in the\n",
    "# customer data compared to the general population?\n",
    "\n"
   ]
  },
  {
   "cell_type": "markdown",
   "metadata": {},
   "source": [
    "### Discussion 3.3: Compare Customer Data to Demographics Data\n",
    "\n",
    "(Double-click this cell and replace this text with your own text, reporting findings and conclusions from the clustering analysis. Can we describe segments of the population that are relatively popular with the mail-order company, or relatively unpopular with the company?)"
   ]
  },
  {
   "cell_type": "markdown",
   "metadata": {},
   "source": [
    "> Congratulations on making it this far in the project! Before you finish, make sure to check through the entire notebook from top to bottom to make sure that your analysis follows a logical flow and all of your findings are documented in **Discussion** cells. Once you've checked over all of your work, you should export the notebook as an HTML document to submit for evaluation. You can do this from the menu, navigating to **File -> Download as -> HTML (.html)**. You will submit both that document and this notebook for your project submission."
   ]
  },
  {
   "cell_type": "code",
   "execution_count": null,
   "metadata": {},
   "outputs": [],
   "source": []
  }
 ],
 "metadata": {
  "kernelspec": {
   "display_name": "Python 3",
   "language": "python",
   "name": "python3"
  },
  "language_info": {
   "codemirror_mode": {
    "name": "ipython",
    "version": 3
   },
   "file_extension": ".py",
   "mimetype": "text/x-python",
   "name": "python",
   "nbconvert_exporter": "python",
   "pygments_lexer": "ipython3",
   "version": "3.6.3"
  }
 },
 "nbformat": 4,
 "nbformat_minor": 2
}
